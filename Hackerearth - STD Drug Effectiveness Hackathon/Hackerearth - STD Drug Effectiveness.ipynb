{
 "cells": [
  {
   "cell_type": "markdown",
   "metadata": {},
   "source": [
    "# Problem Statement"
   ]
  },
  {
   "cell_type": "markdown",
   "metadata": {},
   "source": [
    "A  new  pharmaceutical  startup  is  recently  acquired  by  one  of  the  world's  largest  MNCs. For  the  acquisition\n",
    "process,  the  startup  is  required  to  tabulate  all  drugs  that  they  have  sold  and  account  for  each  drug's\n",
    "e×ectiveness.  A  dedicated  team  has  been  assigned  the  task  to  analyze  all  the  data.  This  data  has  been\n",
    "collected  over  the  years  and  it  contains  data  points  such  as  the  drug's  name,  reviews  by  customers,\n",
    "popularity  and  use  cases  of  the  drug,  and  so  on.  Members of  this  team  are  by  the  noise  present  in  the\n",
    "data.\n",
    "\n",
    "Your  task  is  to  make a  sophisticated  NLP-based  Machine Learning  model that  has  the  mentioned features\n",
    "as  the  input.  Also,  use  the  input  to  predict  the  base  score  of  a  certain  drug  in  a  provided  case."
   ]
  },
  {
   "cell_type": "markdown",
   "metadata": {},
   "source": [
    "# Data"
   ]
  },
  {
   "cell_type": "markdown",
   "metadata": {},
   "source": [
    "The  dataset  has  the  following  columns:\n",
    "\n",
    "<table>\n",
    "  <tr>\n",
    "    <th>Variable  Name</th>\n",
    "    <th>Description</th>\n",
    "  </tr>\n",
    "  <tr>\n",
    "    <td>patient_id</td>\n",
    "    <td>ID  of  patients</td>\n",
    "  </tr>\n",
    "  <tr>\n",
    "<td>name_of_drug</td>\n",
    "<td>Name  of  the  drug  prescribed</td>\n",
    "  </tr>\n",
    "  <tr>\n",
    "<td>use_case_for_drug</td>\n",
    "<td>Purpose of the drug</td>\n",
    "  </tr>\n",
    "  <tr>\n",
    "<td>review_by_patient</td>\n",
    "<td>Review  by  patient</td>\n",
    "  </tr>\n",
    "  <tr>\n",
    "<td>drug_approved_by_UIC</td>\n",
    "<td>Date  of  approval  of  the  drug  by  UIC</td>\n",
    "  </tr>\n",
    "  <tr>\n",
    "<td>number_of_times_prescribed </td>\n",
    "<td>Number  of  times  the  drug  is  prescribed</td>\n",
    "  </tr>\n",
    "  <tr>\n",
    "<td>exectiveness_rating</td>\n",
    "<td>Exectiveness  of  drug</td>\n",
    "  </tr>\n",
    "  <tr>\n",
    "<td>base_score</td>\n",
    "<td>Generated  score  (Target  Variable)</td>\n",
    "  </tr>\n",
    "    \n",
    "</table>"
   ]
  },
  {
   "cell_type": "markdown",
   "metadata": {},
   "source": [
    "# Evaluation Criteria"
   ]
  },
  {
   "cell_type": "markdown",
   "metadata": {},
   "source": [
    "## <b> score = 100*max(0, 1-RMSE(actual_values, predicted_values)) <b>"
   ]
  },
  {
   "cell_type": "markdown",
   "metadata": {},
   "source": [
    "# Step1: Importing the libraries"
   ]
  },
  {
   "cell_type": "code",
   "execution_count": 75,
   "metadata": {},
   "outputs": [],
   "source": [
    "import numpy as np\n",
    "import pandas as pd"
   ]
  },
  {
   "cell_type": "markdown",
   "metadata": {},
   "source": [
    "# Step2: Import Data"
   ]
  },
  {
   "cell_type": "code",
   "execution_count": 76,
   "metadata": {},
   "outputs": [],
   "source": [
    "# Importing the dataset\n",
    "train = pd.read_csv(\"std_drug_effectiveness_train.csv\")"
   ]
  },
  {
   "cell_type": "code",
   "execution_count": 77,
   "metadata": {},
   "outputs": [
    {
     "data": {
      "text/plain": [
       "(32165, 8)"
      ]
     },
     "execution_count": 77,
     "metadata": {},
     "output_type": "execute_result"
    }
   ],
   "source": [
    "train.shape"
   ]
  },
  {
   "cell_type": "code",
   "execution_count": 78,
   "metadata": {},
   "outputs": [
    {
     "data": {
      "text/html": [
       "<div>\n",
       "<style scoped>\n",
       "    .dataframe tbody tr th:only-of-type {\n",
       "        vertical-align: middle;\n",
       "    }\n",
       "\n",
       "    .dataframe tbody tr th {\n",
       "        vertical-align: top;\n",
       "    }\n",
       "\n",
       "    .dataframe thead th {\n",
       "        text-align: right;\n",
       "    }\n",
       "</style>\n",
       "<table border=\"1\" class=\"dataframe\">\n",
       "  <thead>\n",
       "    <tr style=\"text-align: right;\">\n",
       "      <th></th>\n",
       "      <th>patient_id</th>\n",
       "      <th>name_of_drug</th>\n",
       "      <th>use_case_for_drug</th>\n",
       "      <th>review_by_patient</th>\n",
       "      <th>effectiveness_rating</th>\n",
       "      <th>drug_approved_by_UIC</th>\n",
       "      <th>number_of_times_prescribed</th>\n",
       "      <th>base_score</th>\n",
       "    </tr>\n",
       "  </thead>\n",
       "  <tbody>\n",
       "    <tr>\n",
       "      <th>0</th>\n",
       "      <td>206461</td>\n",
       "      <td>Valsartan</td>\n",
       "      <td>Left Ventricular Dysfunction</td>\n",
       "      <td>\"It has no side effect, I take it in combinati...</td>\n",
       "      <td>9</td>\n",
       "      <td>20-May-12</td>\n",
       "      <td>27</td>\n",
       "      <td>8.022969</td>\n",
       "    </tr>\n",
       "    <tr>\n",
       "      <th>1</th>\n",
       "      <td>95260</td>\n",
       "      <td>Guanfacine</td>\n",
       "      <td>ADHD</td>\n",
       "      <td>\"My son is halfway through his fourth week of ...</td>\n",
       "      <td>8</td>\n",
       "      <td>27-Apr-10</td>\n",
       "      <td>192</td>\n",
       "      <td>7.858458</td>\n",
       "    </tr>\n",
       "    <tr>\n",
       "      <th>2</th>\n",
       "      <td>92703</td>\n",
       "      <td>Lybrel</td>\n",
       "      <td>Birth Control</td>\n",
       "      <td>\"I used to take another oral contraceptive, wh...</td>\n",
       "      <td>5</td>\n",
       "      <td>14-Dec-09</td>\n",
       "      <td>17</td>\n",
       "      <td>6.341969</td>\n",
       "    </tr>\n",
       "    <tr>\n",
       "      <th>3</th>\n",
       "      <td>35696</td>\n",
       "      <td>Buprenorphine / naloxone</td>\n",
       "      <td>Opiate Dependence</td>\n",
       "      <td>\"Suboxone has completely turned my life around...</td>\n",
       "      <td>9</td>\n",
       "      <td>27-Nov-16</td>\n",
       "      <td>37</td>\n",
       "      <td>6.590176</td>\n",
       "    </tr>\n",
       "    <tr>\n",
       "      <th>4</th>\n",
       "      <td>155963</td>\n",
       "      <td>Cialis</td>\n",
       "      <td>Benign Prostatic Hyperplasia</td>\n",
       "      <td>\"2nd day on 5mg started to work with rock hard...</td>\n",
       "      <td>2</td>\n",
       "      <td>28-Nov-15</td>\n",
       "      <td>43</td>\n",
       "      <td>6.144782</td>\n",
       "    </tr>\n",
       "  </tbody>\n",
       "</table>\n",
       "</div>"
      ],
      "text/plain": [
       "   patient_id              name_of_drug             use_case_for_drug  \\\n",
       "0      206461                 Valsartan  Left Ventricular Dysfunction   \n",
       "1       95260                Guanfacine                          ADHD   \n",
       "2       92703                    Lybrel                 Birth Control   \n",
       "3       35696  Buprenorphine / naloxone             Opiate Dependence   \n",
       "4      155963                    Cialis  Benign Prostatic Hyperplasia   \n",
       "\n",
       "                                   review_by_patient  effectiveness_rating  \\\n",
       "0  \"It has no side effect, I take it in combinati...                     9   \n",
       "1  \"My son is halfway through his fourth week of ...                     8   \n",
       "2  \"I used to take another oral contraceptive, wh...                     5   \n",
       "3  \"Suboxone has completely turned my life around...                     9   \n",
       "4  \"2nd day on 5mg started to work with rock hard...                     2   \n",
       "\n",
       "  drug_approved_by_UIC  number_of_times_prescribed  base_score  \n",
       "0            20-May-12                          27    8.022969  \n",
       "1            27-Apr-10                         192    7.858458  \n",
       "2            14-Dec-09                          17    6.341969  \n",
       "3            27-Nov-16                          37    6.590176  \n",
       "4            28-Nov-15                          43    6.144782  "
      ]
     },
     "execution_count": 78,
     "metadata": {},
     "output_type": "execute_result"
    }
   ],
   "source": [
    "train.head()"
   ]
  },
  {
   "cell_type": "markdown",
   "metadata": {},
   "source": [
    "# Step3: EDA and Data Visualization"
   ]
  },
  {
   "cell_type": "code",
   "execution_count": 79,
   "metadata": {},
   "outputs": [
    {
     "data": {
      "text/plain": [
       "Index(['patient_id', 'name_of_drug', 'use_case_for_drug', 'review_by_patient',\n",
       "       'effectiveness_rating', 'drug_approved_by_UIC',\n",
       "       'number_of_times_prescribed', 'base_score'],\n",
       "      dtype='object')"
      ]
     },
     "execution_count": 79,
     "metadata": {},
     "output_type": "execute_result"
    }
   ],
   "source": [
    "train.columns"
   ]
  },
  {
   "cell_type": "code",
   "execution_count": 80,
   "metadata": {},
   "outputs": [
    {
     "data": {
      "text/plain": [
       "2220"
      ]
     },
     "execution_count": 80,
     "metadata": {},
     "output_type": "execute_result"
    }
   ],
   "source": [
    "train.name_of_drug.value_counts().count()"
   ]
  },
  {
   "cell_type": "code",
   "execution_count": 81,
   "metadata": {},
   "outputs": [
    {
     "data": {
      "text/plain": [
       "<matplotlib.axes._subplots.AxesSubplot at 0xc885eb0>"
      ]
     },
     "execution_count": 81,
     "metadata": {},
     "output_type": "execute_result"
    }
   ],
   "source": [
    "train.name_of_drug.value_counts()[:20].plot(kind=\"bar\", figsize=(12,5))"
   ]
  },
  {
   "cell_type": "code",
   "execution_count": 82,
   "metadata": {},
   "outputs": [
    {
     "data": {
      "text/plain": [
       "636"
      ]
     },
     "execution_count": 82,
     "metadata": {},
     "output_type": "execute_result"
    }
   ],
   "source": [
    "train.use_case_for_drug.value_counts().count()"
   ]
  },
  {
   "cell_type": "code",
   "execution_count": 83,
   "metadata": {},
   "outputs": [
    {
     "data": {
      "text/plain": [
       "<matplotlib.axes._subplots.AxesSubplot at 0xcbfcb30>"
      ]
     },
     "execution_count": 83,
     "metadata": {},
     "output_type": "execute_result"
    },
    {
     "data": {
      "image/png": "[encoded data removed]",
      "text/plain": [
       "<Figure size 864x360 with 1 Axes>"
      ]
     },
     "metadata": {
      "needs_background": "light"
     },
     "output_type": "display_data"
    }
   ],
   "source": [
    "train.use_case_for_drug.value_counts()[:20].plot(kind=\"bar\", figsize=(12,5))"
   ]
  },
  {
   "cell_type": "code",
   "execution_count": 84,
   "metadata": {},
   "outputs": [
    {
     "data": {
      "text/plain": [
       "<matplotlib.axes._subplots.AxesSubplot at 0xc95f370>"
      ]
     },
     "execution_count": 84,
     "metadata": {},
     "output_type": "execute_result"
    },
    {
     "data": {
      "image/png": "[encoded data removed]",
      "text/plain": [
       "<Figure size 864x360 with 1 Axes>"
      ]
     },
     "metadata": {
      "needs_background": "light"
     },
     "output_type": "display_data"
    }
   ],
   "source": [
    "train.effectiveness_rating.value_counts().plot(kind=\"bar\", figsize=(12,5))"
   ]
  },
  {
   "cell_type": "code",
   "execution_count": 85,
   "metadata": {},
   "outputs": [
    {
     "data": {
      "text/plain": [
       "<matplotlib.axes._subplots.AxesSubplot at 0xccb9370>"
      ]
     },
     "execution_count": 85,
     "metadata": {},
     "output_type": "execute_result"
    },
    {
     "data": {
      "image/png": "[encoded data removed]",
      "text/plain": [
       "<Figure size 864x360 with 1 Axes>"
      ]
     },
     "metadata": {
      "needs_background": "light"
     },
     "output_type": "display_data"
    }
   ],
   "source": [
    "train.number_of_times_prescribed.plot(kind=\"hist\", figsize=(12,5))"
   ]
  },
  {
   "cell_type": "markdown",
   "metadata": {},
   "source": [
    "# Step4: Preprocessing Text From Dataset"
   ]
  },
  {
   "cell_type": "markdown",
   "metadata": {},
   "source": [
    "Each review undergoes through a preprocessing step, where all the vague information is removed.\n",
    "\n",
    "1. Removing the Stopwords, numeric and speacial charecters.\n",
    "2. Normalizing each review using the approach of stemming."
   ]
  },
  {
   "cell_type": "markdown",
   "metadata": {},
   "source": [
    "'''\n",
    "stopwords: a, an, the, on ..\n",
    "Special character: @#$%\n",
    "\n",
    "Stemming: pick only root word\n",
    "\n",
    "eating -- eat\n",
    "eaten -- eat\n",
    "'''"
   ]
  },
  {
   "cell_type": "code",
   "execution_count": 87,
   "metadata": {},
   "outputs": [
    {
     "data": {
      "text/plain": [
       "(32165, 8)"
      ]
     },
     "execution_count": 87,
     "metadata": {},
     "output_type": "execute_result"
    }
   ],
   "source": [
    "train.shape"
   ]
  },
  {
   "cell_type": "markdown",
   "metadata": {},
   "source": [
    "# Step4.1: Removing stop words, stemming of the words"
   ]
  },
  {
   "cell_type": "markdown",
   "metadata": {},
   "source": [
    "Using NLTK"
   ]
  },
  {
   "cell_type": "code",
   "execution_count": 88,
   "metadata": {},
   "outputs": [
    {
     "data": {
      "text/plain": [
       "32165"
      ]
     },
     "execution_count": 88,
     "metadata": {},
     "output_type": "execute_result"
    }
   ],
   "source": [
    "train.shape[0]"
   ]
  },
  {
   "cell_type": "code",
   "execution_count": 89,
   "metadata": {
    "scrolled": true
   },
   "outputs": [],
   "source": [
    "import re\n",
    "import nltk\n",
    "from nltk.corpus import stopwords\n",
    "from nltk.stem.porter import PorterStemmer\n"
   ]
  },
  {
   "cell_type": "code",
   "execution_count": 90,
   "metadata": {},
   "outputs": [
    {
     "name": "stderr",
     "output_type": "stream",
     "text": [
      "[nltk_data] Downloading package vader_lexicon to\n",
      "[nltk_data]     C:\\Users\\Bhuwanesh\\AppData\\Roaming\\nltk_data...\n",
      "[nltk_data]   Package vader_lexicon is already up-to-date!\n"
     ]
    }
   ],
   "source": [
    "#IMPORT NLTK AND DOWNLOAD VADER_LEXICON FOR CALCULATING SENTIMENT INTENSITY\n",
    "import nltk\n",
    "nltk.download('vader_lexicon')\n",
    "\n",
    "from nltk.sentiment.vader import SentimentIntensityAnalyzer\n",
    "sid = SentimentIntensityAnalyzer()\n",
    "\n",
    "#FUNCTION TO FIND POLARITY SCORE\n",
    "def polar_score(text):\n",
    "    score = sid.polarity_scores(text)\n",
    "    x = score['compound']\n",
    "    return x\n",
    "\n",
    "\n",
    "#CREATING A COLUMN NAMED COMPOUND SCORE WITH SENTIMENT INTENSITY AS ITS VALUE \n",
    "train['Compound_Score'] = train['review_by_patient'].apply(lambda x : polar_score(x))\n",
    "\n",
    "#CREATING A COLUMN NAMED LENGTH WITH LENGTH OF REVIEWS AS ITS VALUE\n",
    "train['length'] = train['review_by_patient'].apply(lambda x: len(x) - x.count(\" \"))\n"
   ]
  },
  {
   "cell_type": "code",
   "execution_count": 91,
   "metadata": {},
   "outputs": [
    {
     "data": {
      "text/plain": [
       "Index(['patient_id', 'name_of_drug', 'use_case_for_drug', 'review_by_patient',\n",
       "       'effectiveness_rating', 'drug_approved_by_UIC',\n",
       "       'number_of_times_prescribed', 'base_score', 'Compound_Score', 'length'],\n",
       "      dtype='object')"
      ]
     },
     "execution_count": 91,
     "metadata": {},
     "output_type": "execute_result"
    }
   ],
   "source": [
    "train.columns"
   ]
  },
  {
   "cell_type": "markdown",
   "metadata": {},
   "source": [
    "# Step5: Creating new Columns from Date"
   ]
  },
  {
   "cell_type": "code",
   "execution_count": 92,
   "metadata": {},
   "outputs": [],
   "source": [
    "train[\"drug_approval_day\"] = train.drug_approved_by_UIC.str.split(\"-\", n=3, expand=True)[0]\n",
    "train[\"drug_approval_month\"] = train.drug_approved_by_UIC.str.split(\"-\", n=3, expand=True)[1]\n",
    "train[\"drug_approval_year\"] = train.drug_approved_by_UIC.str.split(\"-\", n=3, expand=True)[2]"
   ]
  },
  {
   "cell_type": "code",
   "execution_count": 93,
   "metadata": {},
   "outputs": [],
   "source": [
    "def extract_quarter(date):\n",
    "    if date in [\"Jan\", \"Feb\", \"Mar\"]:\n",
    "        return 1\n",
    "    elif date in [\"Apr\", \"May\", \"Jun\"]:\n",
    "        return 2\n",
    "    elif date in [\"Jul\", \"Aug\", \"Sep\"]:\n",
    "        return 3\n",
    "    else:\n",
    "        return 4"
   ]
  },
  {
   "cell_type": "code",
   "execution_count": 94,
   "metadata": {},
   "outputs": [],
   "source": [
    "train[\"drug_approval_quarter\"] = train[\"drug_approval_month\"].apply(lambda x: extract_quarter(x))"
   ]
  },
  {
   "cell_type": "code",
   "execution_count": 95,
   "metadata": {},
   "outputs": [
    {
     "data": {
      "text/plain": [
       "Index(['patient_id', 'name_of_drug', 'use_case_for_drug', 'review_by_patient',\n",
       "       'effectiveness_rating', 'drug_approved_by_UIC',\n",
       "       'number_of_times_prescribed', 'base_score', 'Compound_Score', 'length',\n",
       "       'drug_approval_day', 'drug_approval_month', 'drug_approval_year',\n",
       "       'drug_approval_quarter'],\n",
       "      dtype='object')"
      ]
     },
     "execution_count": 95,
     "metadata": {},
     "output_type": "execute_result"
    }
   ],
   "source": [
    "train.columns"
   ]
  },
  {
   "cell_type": "code",
   "execution_count": 96,
   "metadata": {},
   "outputs": [],
   "source": [
    "from sklearn.preprocessing import LabelEncoder\n",
    "le = LabelEncoder()"
   ]
  },
  {
   "cell_type": "code",
   "execution_count": 97,
   "metadata": {},
   "outputs": [],
   "source": [
    "train[\"drug_approval_month\"] = le.fit_transform(train[\"drug_approval_month\"])"
   ]
  },
  {
   "cell_type": "code",
   "execution_count": null,
   "metadata": {},
   "outputs": [],
   "source": []
  },
  {
   "cell_type": "markdown",
   "metadata": {},
   "source": [
    "# Create a count vector of the column"
   ]
  },
  {
   "cell_type": "code",
   "execution_count": 98,
   "metadata": {},
   "outputs": [
    {
     "data": {
      "text/html": [
       "<div>\n",
       "<style scoped>\n",
       "    .dataframe tbody tr th:only-of-type {\n",
       "        vertical-align: middle;\n",
       "    }\n",
       "\n",
       "    .dataframe tbody tr th {\n",
       "        vertical-align: top;\n",
       "    }\n",
       "\n",
       "    .dataframe thead th {\n",
       "        text-align: right;\n",
       "    }\n",
       "</style>\n",
       "<table border=\"1\" class=\"dataframe\">\n",
       "  <thead>\n",
       "    <tr style=\"text-align: right;\">\n",
       "      <th></th>\n",
       "      <th>patient_id</th>\n",
       "      <th>name_of_drug</th>\n",
       "      <th>use_case_for_drug</th>\n",
       "      <th>review_by_patient</th>\n",
       "      <th>effectiveness_rating</th>\n",
       "      <th>drug_approved_by_UIC</th>\n",
       "      <th>number_of_times_prescribed</th>\n",
       "      <th>base_score</th>\n",
       "      <th>Compound_Score</th>\n",
       "      <th>length</th>\n",
       "      <th>drug_approval_day</th>\n",
       "      <th>drug_approval_month</th>\n",
       "      <th>drug_approval_year</th>\n",
       "      <th>drug_approval_quarter</th>\n",
       "    </tr>\n",
       "  </thead>\n",
       "  <tbody>\n",
       "    <tr>\n",
       "      <th>0</th>\n",
       "      <td>206461</td>\n",
       "      <td>Valsartan</td>\n",
       "      <td>Left Ventricular Dysfunction</td>\n",
       "      <td>\"It has no side effect, I take it in combinati...</td>\n",
       "      <td>9</td>\n",
       "      <td>20-May-12</td>\n",
       "      <td>27</td>\n",
       "      <td>8.022969</td>\n",
       "      <td>-0.2960</td>\n",
       "      <td>63</td>\n",
       "      <td>20</td>\n",
       "      <td>8</td>\n",
       "      <td>12</td>\n",
       "      <td>2</td>\n",
       "    </tr>\n",
       "    <tr>\n",
       "      <th>1</th>\n",
       "      <td>95260</td>\n",
       "      <td>Guanfacine</td>\n",
       "      <td>ADHD</td>\n",
       "      <td>\"My son is halfway through his fourth week of ...</td>\n",
       "      <td>8</td>\n",
       "      <td>27-Apr-10</td>\n",
       "      <td>192</td>\n",
       "      <td>7.858458</td>\n",
       "      <td>0.8603</td>\n",
       "      <td>601</td>\n",
       "      <td>27</td>\n",
       "      <td>0</td>\n",
       "      <td>10</td>\n",
       "      <td>2</td>\n",
       "    </tr>\n",
       "    <tr>\n",
       "      <th>2</th>\n",
       "      <td>92703</td>\n",
       "      <td>Lybrel</td>\n",
       "      <td>Birth Control</td>\n",
       "      <td>\"I used to take another oral contraceptive, wh...</td>\n",
       "      <td>5</td>\n",
       "      <td>14-Dec-09</td>\n",
       "      <td>17</td>\n",
       "      <td>6.341969</td>\n",
       "      <td>0.7645</td>\n",
       "      <td>623</td>\n",
       "      <td>14</td>\n",
       "      <td>2</td>\n",
       "      <td>09</td>\n",
       "      <td>4</td>\n",
       "    </tr>\n",
       "    <tr>\n",
       "      <th>3</th>\n",
       "      <td>35696</td>\n",
       "      <td>Buprenorphine / naloxone</td>\n",
       "      <td>Opiate Dependence</td>\n",
       "      <td>\"Suboxone has completely turned my life around...</td>\n",
       "      <td>9</td>\n",
       "      <td>27-Nov-16</td>\n",
       "      <td>37</td>\n",
       "      <td>6.590176</td>\n",
       "      <td>0.9403</td>\n",
       "      <td>586</td>\n",
       "      <td>27</td>\n",
       "      <td>9</td>\n",
       "      <td>16</td>\n",
       "      <td>4</td>\n",
       "    </tr>\n",
       "    <tr>\n",
       "      <th>4</th>\n",
       "      <td>155963</td>\n",
       "      <td>Cialis</td>\n",
       "      <td>Benign Prostatic Hyperplasia</td>\n",
       "      <td>\"2nd day on 5mg started to work with rock hard...</td>\n",
       "      <td>2</td>\n",
       "      <td>28-Nov-15</td>\n",
       "      <td>43</td>\n",
       "      <td>6.144782</td>\n",
       "      <td>-0.4342</td>\n",
       "      <td>334</td>\n",
       "      <td>28</td>\n",
       "      <td>9</td>\n",
       "      <td>15</td>\n",
       "      <td>4</td>\n",
       "    </tr>\n",
       "  </tbody>\n",
       "</table>\n",
       "</div>"
      ],
      "text/plain": [
       "   patient_id              name_of_drug             use_case_for_drug  \\\n",
       "0      206461                 Valsartan  Left Ventricular Dysfunction   \n",
       "1       95260                Guanfacine                          ADHD   \n",
       "2       92703                    Lybrel                 Birth Control   \n",
       "3       35696  Buprenorphine / naloxone             Opiate Dependence   \n",
       "4      155963                    Cialis  Benign Prostatic Hyperplasia   \n",
       "\n",
       "                                   review_by_patient  effectiveness_rating  \\\n",
       "0  \"It has no side effect, I take it in combinati...                     9   \n",
       "1  \"My son is halfway through his fourth week of ...                     8   \n",
       "2  \"I used to take another oral contraceptive, wh...                     5   \n",
       "3  \"Suboxone has completely turned my life around...                     9   \n",
       "4  \"2nd day on 5mg started to work with rock hard...                     2   \n",
       "\n",
       "  drug_approved_by_UIC  number_of_times_prescribed  base_score  \\\n",
       "0            20-May-12                          27    8.022969   \n",
       "1            27-Apr-10                         192    7.858458   \n",
       "2            14-Dec-09                          17    6.341969   \n",
       "3            27-Nov-16                          37    6.590176   \n",
       "4            28-Nov-15                          43    6.144782   \n",
       "\n",
       "   Compound_Score  length drug_approval_day  drug_approval_month  \\\n",
       "0         -0.2960      63                20                    8   \n",
       "1          0.8603     601                27                    0   \n",
       "2          0.7645     623                14                    2   \n",
       "3          0.9403     586                27                    9   \n",
       "4         -0.4342     334                28                    9   \n",
       "\n",
       "  drug_approval_year  drug_approval_quarter  \n",
       "0                 12                      2  \n",
       "1                 10                      2  \n",
       "2                 09                      4  \n",
       "3                 16                      4  \n",
       "4                 15                      4  "
      ]
     },
     "execution_count": 98,
     "metadata": {},
     "output_type": "execute_result"
    }
   ],
   "source": [
    "train.head()"
   ]
  },
  {
   "cell_type": "code",
   "execution_count": 99,
   "metadata": {},
   "outputs": [],
   "source": [
    "from sklearn.feature_extraction.text import CountVectorizer\n",
    "cv = CountVectorizer(max_features = 400)\n",
    "X_temp = cv.fit_transform(train['review_by_patient']).toarray()"
   ]
  },
  {
   "cell_type": "code",
   "execution_count": 100,
   "metadata": {},
   "outputs": [],
   "source": [
    "train_temp = train[['effectiveness_rating', 'number_of_times_prescribed', 'Compound_Score', 'length',\n",
    "       'drug_approval_day', 'drug_approval_month', 'drug_approval_year', 'drug_approval_quarter']].values"
   ]
  },
  {
   "cell_type": "markdown",
   "metadata": {},
   "source": [
    "# Step6: Create X and Y"
   ]
  },
  {
   "cell_type": "code",
   "execution_count": 101,
   "metadata": {},
   "outputs": [],
   "source": [
    "X = np.concatenate((X_temp, train_temp), axis=1)"
   ]
  },
  {
   "cell_type": "code",
   "execution_count": 102,
   "metadata": {},
   "outputs": [],
   "source": [
    "y = train['base_score']"
   ]
  },
  {
   "cell_type": "code",
   "execution_count": null,
   "metadata": {},
   "outputs": [],
   "source": []
  },
  {
   "cell_type": "markdown",
   "metadata": {},
   "source": [
    "# Step7: Splitting the dataset into Test and Train"
   ]
  },
  {
   "cell_type": "code",
   "execution_count": 103,
   "metadata": {},
   "outputs": [],
   "source": [
    "# Splitting the dataset into the Training set and Test set\n",
    "from sklearn.model_selection import train_test_split\n",
    "X_train, X_test, y_train, y_test = train_test_split(X, y, test_size = 0.3, random_state = 42)"
   ]
  },
  {
   "cell_type": "code",
   "execution_count": 105,
   "metadata": {},
   "outputs": [
    {
     "data": {
      "text/plain": [
       "(22515, 408)"
      ]
     },
     "execution_count": 105,
     "metadata": {},
     "output_type": "execute_result"
    }
   ],
   "source": [
    "X_train.shape"
   ]
  },
  {
   "cell_type": "markdown",
   "metadata": {},
   "source": [
    "# Function to calculate Score"
   ]
  },
  {
   "cell_type": "code",
   "execution_count": 104,
   "metadata": {},
   "outputs": [],
   "source": [
    "def get_score(y_test, y_predict):\n",
    "    score = 100*max(0, 1-np.sqrt(metrics.mean_squared_error(y_test, y_predict)))\n",
    "    print(\"Score is: \", score)"
   ]
  },
  {
   "cell_type": "markdown",
   "metadata": {},
   "source": [
    "# Step8: Applying Model"
   ]
  },
  {
   "cell_type": "code",
   "execution_count": 106,
   "metadata": {},
   "outputs": [],
   "source": [
    "from sklearn import metrics\n",
    "from sklearn.metrics import r2_score"
   ]
  },
  {
   "cell_type": "code",
   "execution_count": 107,
   "metadata": {},
   "outputs": [
    {
     "name": "stdout",
     "output_type": "stream",
     "text": [
      "Linear Regression R2 Score:  0.1722253953284476\n",
      "Linear Regression MSE Score:  2.098657478424899\n",
      "Linear Regression RMSE Score:  1.4486743866117393\n",
      "Score is:  0\n"
     ]
    }
   ],
   "source": [
    "from sklearn.linear_model import LinearRegression\n",
    "\n",
    "lrmodel=LinearRegression()\n",
    "lrmodel.fit(X_train,y_train)\n",
    "y_predict=lrmodel.predict(X_test)\n",
    "\n",
    "print(\"Linear Regression R2 Score: \", r2_score(y_test,y_predict))\n",
    "print(\"Linear Regression MSE Score: \", metrics.mean_squared_error(y_test, y_predict))\n",
    "print(\"Linear Regression RMSE Score: \", np.sqrt(metrics.mean_squared_error(y_test, y_predict)))\n",
    "\n",
    "get_score(y_test, y_predict)"
   ]
  },
  {
   "cell_type": "code",
   "execution_count": 108,
   "metadata": {},
   "outputs": [
    {
     "name": "stdout",
     "output_type": "stream",
     "text": [
      "Lasso Regression R2 Score:  0.1739412360744199\n",
      "Lasso Regression MSE Score:  2.0943073062971256\n",
      "Lasso Regression RMSE Score:  1.4471721757611034\n",
      "Score is:  0\n"
     ]
    }
   ],
   "source": [
    "from sklearn import linear_model\n",
    "lassoclf = linear_model.Lasso(alpha=0.1)\n",
    "lassoclf.fit(X_train,y_train)\n",
    "y_predict=lassoclf.predict(X_test)\n",
    "\n",
    "print(\"Lasso Regression R2 Score: \", r2_score(y_test,y_predict))\n",
    "print(\"Lasso Regression MSE Score: \", metrics.mean_squared_error(y_test, y_predict))\n",
    "print(\"Lasso Regression RMSE Score: \", np.sqrt(metrics.mean_squared_error(y_test, y_predict)))\n",
    "\n",
    "get_score(y_test, y_predict)"
   ]
  },
  {
   "cell_type": "code",
   "execution_count": 109,
   "metadata": {},
   "outputs": [
    {
     "name": "stdout",
     "output_type": "stream",
     "text": [
      "Ridge Regression R2 Score:  0.1722465182975078\n",
      "Ridge Regression MSE Score:  2.09860392534809\n",
      "Ridge Regression RMSE Score:  1.4486559030177215\n",
      "Score is:  0\n"
     ]
    }
   ],
   "source": [
    "from sklearn.linear_model import Ridge\n",
    "ridgeclf = linear_model.Ridge(alpha=1.0)\n",
    "ridgeclf.fit(X_train,y_train)\n",
    "y_predict=ridgeclf.predict(X_test)\n",
    "\n",
    "print(\"Ridge Regression R2 Score: \", r2_score(y_test,y_predict))\n",
    "print(\"Ridge Regression MSE Score: \", metrics.mean_squared_error(y_test, y_predict))\n",
    "print(\"Ridge Regression RMSE Score: \", np.sqrt(metrics.mean_squared_error(y_test, y_predict)))\n",
    "\n",
    "get_score(y_test, y_predict)"
   ]
  },
  {
   "cell_type": "code",
   "execution_count": 110,
   "metadata": {},
   "outputs": [
    {
     "name": "stderr",
     "output_type": "stream",
     "text": [
      "c:\\users\\bhuwanesh\\appdata\\local\\programs\\python\\python36-32\\lib\\site-packages\\sklearn\\svm\\base.py:196: FutureWarning: The default value of gamma will change from 'auto' to 'scale' in version 0.22 to account better for unscaled features. Set gamma explicitly to 'auto' or 'scale' to avoid this warning.\n",
      "  \"avoid this warning.\", FutureWarning)\n"
     ]
    },
    {
     "name": "stdout",
     "output_type": "stream",
     "text": [
      "SVR R2 Score:  0.1416315483226409\n",
      "SVR MSE Score:  2.17622207807579\n",
      "SVR RMSE Score:  1.4752023854630218\n",
      "Score is:  0\n"
     ]
    }
   ],
   "source": [
    "from sklearn.svm import SVR\n",
    "svrclf = SVR(C=1.0, epsilon=0.2)\n",
    "svrclf.fit(X_train,y_train)\n",
    "\n",
    "y_predict=svrclf.predict(X_test)\n",
    "\n",
    "print(\"SVR R2 Score: \", r2_score(y_test,y_predict))\n",
    "print(\"SVR MSE Score: \", metrics.mean_squared_error(y_test, y_predict))\n",
    "print(\"SVR RMSE Score: \", np.sqrt(metrics.mean_squared_error(y_test, y_predict)))\n",
    "\n",
    "get_score(y_test, y_predict)"
   ]
  },
  {
   "cell_type": "code",
   "execution_count": null,
   "metadata": {},
   "outputs": [],
   "source": []
  },
  {
   "cell_type": "code",
   "execution_count": 111,
   "metadata": {},
   "outputs": [
    {
     "name": "stdout",
     "output_type": "stream",
     "text": [
      "****** y1 ***************** \n",
      "DT Regression R2 Score:  0.3238455749198331\n",
      "DT Regression MSE Score:  1.7142547412741942\n",
      "DT Regression RMSE Score:  1.3092955133483786\n",
      "Score is:  0\n",
      "****** y2 ***************** \n",
      "DT Regression R2 Score:  0.5167962358375771\n",
      "DT Regression MSE Score:  1.2250668086935337\n",
      "DT Regression RMSE Score:  1.1068273617387374\n",
      "Score is:  0\n"
     ]
    }
   ],
   "source": [
    "from sklearn.tree import DecisionTreeRegressor\n",
    "\n",
    "# Fit regression model\n",
    "regr_1 = DecisionTreeRegressor(max_depth=2)\n",
    "regr_2 = DecisionTreeRegressor(max_depth=5)\n",
    "regr_1.fit(X_train,y_train)\n",
    "regr_2.fit(X_train,y_train)\n",
    "\n",
    "# Predict\n",
    "y_1 = regr_1.predict(X_test)\n",
    "y_2 = regr_2.predict(X_test)\n",
    "\n",
    "print(\"****** y1 ***************** \")\n",
    "print(\"DT Regression R2 Score: \", r2_score(y_test,y_1))\n",
    "print(\"DT Regression MSE Score: \", metrics.mean_squared_error(y_test, y_1))\n",
    "print(\"DT Regression RMSE Score: \", np.sqrt(metrics.mean_squared_error(y_test, y_1)))\n",
    "get_score(y_test, y_1)\n",
    "\n",
    "print(\"****** y2 ***************** \")\n",
    "print(\"DT Regression R2 Score: \", r2_score(y_test,y_2))\n",
    "print(\"DT Regression MSE Score: \", metrics.mean_squared_error(y_test, y_2))\n",
    "print(\"DT Regression RMSE Score: \", np.sqrt(metrics.mean_squared_error(y_test, y_2)))\n",
    "get_score(y_test, y_2)\n",
    "\n"
   ]
  },
  {
   "cell_type": "code",
   "execution_count": null,
   "metadata": {},
   "outputs": [],
   "source": []
  },
  {
   "cell_type": "markdown",
   "metadata": {},
   "source": [
    "# Stage2: Apply on Test Data"
   ]
  },
  {
   "cell_type": "code",
   "execution_count": 112,
   "metadata": {},
   "outputs": [],
   "source": [
    "# Importing the dataset\n",
    "test = pd.read_csv(\"std_drug_effectiveness_test.csv\")\n",
    "\n",
    "#CREATING A COLUMN NAMED COMPOUND SCORE WITH SENTIMENT INTENSITY AS ITS VALUE \n",
    "test['Compound_Score'] = test['review_by_patient'].apply(lambda x : polar_score(x))\n",
    "\n",
    "#CREATING A COLUMN NAMED LENGTH WITH LENGTH OF REVIEWS AS ITS VALUE\n",
    "test['length'] = test['review_by_patient'].apply(lambda x: len(x) - x.count(\" \"))\n",
    "\n",
    "\n",
    "test[\"drug_approval_day\"] = test.drug_approved_by_UIC.str.split(\"-\", n=3, expand=True)[0]\n",
    "test[\"drug_approval_month\"] = test.drug_approved_by_UIC.str.split(\"-\", n=3, expand=True)[1]\n",
    "test[\"drug_approval_year\"] = test.drug_approved_by_UIC.str.split(\"-\", n=3, expand=True)[2]\n",
    "\n",
    "test[\"drug_approval_quarter\"] = test[\"drug_approval_month\"].apply(lambda x: extract_quarter(x))\n",
    "\n",
    "test[\"drug_approval_month\"] = le.fit_transform(test[\"drug_approval_month\"])\n",
    "\n"
   ]
  },
  {
   "cell_type": "code",
   "execution_count": 91,
   "metadata": {},
   "outputs": [],
   "source": [
    "#test_data = test[['effectiveness_rating', 'number_of_times_prescribed', 'Compound_Score', 'length',\n",
    "#       'drug_approval_day', 'drug_approval_month', 'drug_approval_year', 'drug_approval_quarter']]"
   ]
  },
  {
   "cell_type": "code",
   "execution_count": 113,
   "metadata": {},
   "outputs": [],
   "source": [
    "cv = CountVectorizer(max_features = 400)\n",
    "X1_temp = cv.fit_transform(test['review_by_patient']).toarray()\n",
    "\n",
    "test_temp = test[['effectiveness_rating', 'number_of_times_prescribed', 'Compound_Score', 'length',\n",
    "       'drug_approval_day', 'drug_approval_month', 'drug_approval_year', 'drug_approval_quarter']].values\n",
    "\n",
    "test_data = np.concatenate((X1_temp, test_temp), axis=1)"
   ]
  },
  {
   "cell_type": "code",
   "execution_count": 114,
   "metadata": {},
   "outputs": [
    {
     "ename": "AttributeError",
     "evalue": "'numpy.ndarray' object has no attribute 'head'",
     "output_type": "error",
     "traceback": [
      "\u001b[1;31m---------------------------------------------------------------------------\u001b[0m",
      "\u001b[1;31mAttributeError\u001b[0m                            Traceback (most recent call last)",
      "\u001b[1;32m<ipython-input-114-f80f5f69a113>\u001b[0m in \u001b[0;36m<module>\u001b[1;34m\u001b[0m\n\u001b[1;32m----> 1\u001b[1;33m \u001b[0mtest_data\u001b[0m\u001b[1;33m.\u001b[0m\u001b[0mhead\u001b[0m\u001b[1;33m(\u001b[0m\u001b[1;33m)\u001b[0m\u001b[1;33m\u001b[0m\u001b[0m\n\u001b[0m",
      "\u001b[1;31mAttributeError\u001b[0m: 'numpy.ndarray' object has no attribute 'head'"
     ]
    }
   ],
   "source": [
    "test_data.head()"
   ]
  },
  {
   "cell_type": "code",
   "execution_count": 93,
   "metadata": {},
   "outputs": [],
   "source": [
    "test[\"base_score\"] = ridgeclf.predict(test_data)"
   ]
  },
  {
   "cell_type": "code",
   "execution_count": 94,
   "metadata": {
    "scrolled": true
   },
   "outputs": [],
   "source": [
    "test_data_for_submission = test[[\"patient_id\", \"base_score\"]]"
   ]
  },
  {
   "cell_type": "code",
   "execution_count": 97,
   "metadata": {},
   "outputs": [
    {
     "data": {
      "text/html": [
       "<div>\n",
       "<style scoped>\n",
       "    .dataframe tbody tr th:only-of-type {\n",
       "        vertical-align: middle;\n",
       "    }\n",
       "\n",
       "    .dataframe tbody tr th {\n",
       "        vertical-align: top;\n",
       "    }\n",
       "\n",
       "    .dataframe thead th {\n",
       "        text-align: right;\n",
       "    }\n",
       "</style>\n",
       "<table border=\"1\" class=\"dataframe\">\n",
       "  <thead>\n",
       "    <tr style=\"text-align: right;\">\n",
       "      <th></th>\n",
       "      <th>patient_id</th>\n",
       "      <th>base_score</th>\n",
       "    </tr>\n",
       "  </thead>\n",
       "  <tbody>\n",
       "    <tr>\n",
       "      <th>0</th>\n",
       "      <td>163740</td>\n",
       "      <td>7.261503</td>\n",
       "    </tr>\n",
       "    <tr>\n",
       "      <th>1</th>\n",
       "      <td>39293</td>\n",
       "      <td>7.093512</td>\n",
       "    </tr>\n",
       "    <tr>\n",
       "      <th>2</th>\n",
       "      <td>208087</td>\n",
       "      <td>6.059594</td>\n",
       "    </tr>\n",
       "    <tr>\n",
       "      <th>3</th>\n",
       "      <td>23295</td>\n",
       "      <td>6.649444</td>\n",
       "    </tr>\n",
       "    <tr>\n",
       "      <th>4</th>\n",
       "      <td>97013</td>\n",
       "      <td>5.763051</td>\n",
       "    </tr>\n",
       "  </tbody>\n",
       "</table>\n",
       "</div>"
      ],
      "text/plain": [
       "   patient_id  base_score\n",
       "0      163740    7.261503\n",
       "1       39293    7.093512\n",
       "2      208087    6.059594\n",
       "3       23295    6.649444\n",
       "4       97013    5.763051"
      ]
     },
     "execution_count": 97,
     "metadata": {},
     "output_type": "execute_result"
    }
   ],
   "source": [
    "test_data_for_submission.head()"
   ]
  },
  {
   "cell_type": "code",
   "execution_count": 98,
   "metadata": {},
   "outputs": [],
   "source": [
    "test_data_for_submission.to_csv(\"Submission_file_ridge.csv\")"
   ]
  },
  {
   "cell_type": "code",
   "execution_count": null,
   "metadata": {},
   "outputs": [],
   "source": []
  },
  {
   "cell_type": "code",
   "execution_count": null,
   "metadata": {},
   "outputs": [],
   "source": []
  },
  {
   "cell_type": "code",
   "execution_count": null,
   "metadata": {},
   "outputs": [],
   "source": []
  }
 ],
 "metadata": {
  "kernelspec": {
   "display_name": "Python 3",
   "language": "python",
   "name": "python3"
  },
  "language_info": {
   "codemirror_mode": {
    "name": "ipython",
    "version": 3
   },
   "file_extension": ".py",
   "mimetype": "text/x-python",
   "name": "python",
   "nbconvert_exporter": "python",
   "pygments_lexer": "ipython3",
   "version": "3.6.0"
  }
 },
 "nbformat": 4,
 "nbformat_minor": 2
}
