{
 "cells": [
  {
   "cell_type": "markdown",
   "metadata": {},
   "source": [
    "# Problem Statement"
   ]
  },
  {
   "cell_type": "markdown",
   "metadata": {},
   "source": [
    "We live in a world that is driven by technology and electronic devices as gadgets have become a part of our daily life. It is near impossible to think of a world without smartphones or tablets. Like many kinds of goods or products, used electronic devices have a good demand in our country. In this hackathon, we challenge the data science community to predict the price of used electronic devices based on certain factors.\n",
    "\n",
    "Given are 6 distinguishing factors that can influence the price of a used device. Your objective as a data scientist is to build a machine learning model that can predict the price of used electronic devices based on the given factors.\n",
    "\n",
    "Data Description:-\n",
    "The unzipped folder will have the following files.\n",
    "\n",
    "Train.csv –  2326 observations. <br>\n",
    "Test.csv –  997 observations. <br>\n",
    "Sample Submission – Sample format for the submission. <br>\n",
    "\n",
    "Target Variable: Price"
   ]
  },
  {
   "cell_type": "markdown",
   "metadata": {},
   "source": [
    "# Phase1: Model Building On Training Data"
   ]
  },
  {
   "cell_type": "markdown",
   "metadata": {},
   "source": [
    "# Step1: Read Data"
   ]
  },
  {
   "cell_type": "code",
   "execution_count": 1,
   "metadata": {},
   "outputs": [
    {
     "data": {
      "text/html": [
       "<div>\n",
       "<style scoped>\n",
       "    .dataframe tbody tr th:only-of-type {\n",
       "        vertical-align: middle;\n",
       "    }\n",
       "\n",
       "    .dataframe tbody tr th {\n",
       "        vertical-align: top;\n",
       "    }\n",
       "\n",
       "    .dataframe thead th {\n",
       "        text-align: right;\n",
       "    }\n",
       "</style>\n",
       "<table border=\"1\" class=\"dataframe\">\n",
       "  <thead>\n",
       "    <tr style=\"text-align: right;\">\n",
       "      <th></th>\n",
       "      <th>Brand</th>\n",
       "      <th>Model_Info</th>\n",
       "      <th>Additional_Description</th>\n",
       "      <th>Locality</th>\n",
       "      <th>City</th>\n",
       "      <th>State</th>\n",
       "      <th>Price</th>\n",
       "    </tr>\n",
       "  </thead>\n",
       "  <tbody>\n",
       "    <tr>\n",
       "      <th>0</th>\n",
       "      <td>1</td>\n",
       "      <td>name0 name234 64gb space grey</td>\n",
       "      <td>1yesr old mobile number 999two905two99 bill c...</td>\n",
       "      <td>878</td>\n",
       "      <td>8</td>\n",
       "      <td>2</td>\n",
       "      <td>15000</td>\n",
       "    </tr>\n",
       "    <tr>\n",
       "      <th>1</th>\n",
       "      <td>1</td>\n",
       "      <td>phone 7 name42 name453 new condition box acce...</td>\n",
       "      <td>101004800 1010065900 7000</td>\n",
       "      <td>1081</td>\n",
       "      <td>4</td>\n",
       "      <td>0</td>\n",
       "      <td>18800</td>\n",
       "    </tr>\n",
       "    <tr>\n",
       "      <th>2</th>\n",
       "      <td>1</td>\n",
       "      <td>name0 x 256gb leess used good condition</td>\n",
       "      <td>1010010000 seperate screen guard 3 back cover...</td>\n",
       "      <td>495</td>\n",
       "      <td>11</td>\n",
       "      <td>4</td>\n",
       "      <td>50000</td>\n",
       "    </tr>\n",
       "    <tr>\n",
       "      <th>3</th>\n",
       "      <td>1</td>\n",
       "      <td>name0 6s plus 64 gb space grey</td>\n",
       "      <td>without 1010020100 id 1010010300 colour 10100...</td>\n",
       "      <td>287</td>\n",
       "      <td>10</td>\n",
       "      <td>7</td>\n",
       "      <td>16500</td>\n",
       "    </tr>\n",
       "    <tr>\n",
       "      <th>4</th>\n",
       "      <td>1</td>\n",
       "      <td>phone 7 sealed pack brand new factory outet p...</td>\n",
       "      <td>101008700 10100000 xs max 64 gb made 10100850...</td>\n",
       "      <td>342</td>\n",
       "      <td>4</td>\n",
       "      <td>0</td>\n",
       "      <td>26499</td>\n",
       "    </tr>\n",
       "  </tbody>\n",
       "</table>\n",
       "</div>"
      ],
      "text/plain": [
       "   Brand                                         Model_Info  \\\n",
       "0      1                      name0 name234 64gb space grey   \n",
       "1      1   phone 7 name42 name453 new condition box acce...   \n",
       "2      1            name0 x 256gb leess used good condition   \n",
       "3      1                     name0 6s plus 64 gb space grey   \n",
       "4      1   phone 7 sealed pack brand new factory outet p...   \n",
       "\n",
       "                              Additional_Description  Locality  City  State  \\\n",
       "0   1yesr old mobile number 999two905two99 bill c...       878     8      2   \n",
       "1                          101004800 1010065900 7000      1081     4      0   \n",
       "2   1010010000 seperate screen guard 3 back cover...       495    11      4   \n",
       "3   without 1010020100 id 1010010300 colour 10100...       287    10      7   \n",
       "4   101008700 10100000 xs max 64 gb made 10100850...       342     4      0   \n",
       "\n",
       "   Price  \n",
       "0  15000  \n",
       "1  18800  \n",
       "2  50000  \n",
       "3  16500  \n",
       "4  26499  "
      ]
     },
     "execution_count": 1,
     "metadata": {},
     "output_type": "execute_result"
    }
   ],
   "source": [
    "train = pd.read_csv(\"Train.csv\")\n",
    "train.head()"
   ]
  },
  {
   "cell_type": "code",
   "execution_count": 2,
   "metadata": {},
   "outputs": [
    {
     "data": {
      "text/plain": [
       "(2326, 7)"
      ]
     },
     "execution_count": 2,
     "metadata": {},
     "output_type": "execute_result"
    }
   ],
   "source": [
    "train.shape"
   ]
  },
  {
   "cell_type": "code",
   "execution_count": 3,
   "metadata": {},
   "outputs": [
    {
     "data": {
      "text/plain": [
       "Index(['Brand', 'Model_Info', 'Additional_Description', 'Locality', 'City',\n",
       "       'State', 'Price'],\n",
       "      dtype='object')"
      ]
     },
     "execution_count": 3,
     "metadata": {},
     "output_type": "execute_result"
    }
   ],
   "source": [
    "train.columns"
   ]
  },
  {
   "cell_type": "markdown",
   "metadata": {},
   "source": [
    "# Step2: Exploratory Data Analysis"
   ]
  },
  {
   "cell_type": "markdown",
   "metadata": {},
   "source": [
    "Below are the steps involved to understand, clean and prepare your data for building your predictive model:\n",
    "\n",
    "1. Variable Identification\n",
    "2. Univariate Analysis\n",
    "3. Bi-variate Analysis\n",
    "4. Missing values treatment\n",
    "5. Outlier treatment\n",
    "6. Variable transformation\n",
    "7. Variable creation"
   ]
  },
  {
   "cell_type": "markdown",
   "metadata": {},
   "source": [
    "## 2.1 Missing Data Analysis "
   ]
  },
  {
   "cell_type": "code",
   "execution_count": 4,
   "metadata": {},
   "outputs": [
    {
     "data": {
      "text/plain": [
       "Brand                     0\n",
       "Model_Info                0\n",
       "Additional_Description    0\n",
       "Locality                  0\n",
       "City                      0\n",
       "State                     0\n",
       "Price                     0\n",
       "dtype: int64"
      ]
     },
     "execution_count": 4,
     "metadata": {},
     "output_type": "execute_result"
    }
   ],
   "source": [
    "train.isnull().sum()"
   ]
  },
  {
   "cell_type": "markdown",
   "metadata": {},
   "source": [
    "## 2.2 Data Type Analysis "
   ]
  },
  {
   "cell_type": "code",
   "execution_count": 5,
   "metadata": {},
   "outputs": [
    {
     "data": {
      "text/plain": [
       "Brand                      int64\n",
       "Model_Info                object\n",
       "Additional_Description    object\n",
       "Locality                   int64\n",
       "City                       int64\n",
       "State                      int64\n",
       "Price                      int64\n",
       "dtype: object"
      ]
     },
     "execution_count": 5,
     "metadata": {},
     "output_type": "execute_result"
    }
   ],
   "source": [
    "train.dtypes"
   ]
  },
  {
   "cell_type": "markdown",
   "metadata": {},
   "source": [
    "## 2.3 Univariate Analysis\n",
    "\n",
    "At this stage, we explore variables one by one. Method to perform uni-variate analysis will depend on whether the variable type is categorical or continuous. Let’s look at these methods and statistical measures for categorical and continuous variables individually:\n",
    "\n",
    "<b> Continuous Variables:- </b> In case of continuous variables, we need to understand the central tendency and spread of the variable. These are measured using various statistical metrics such as Histogram and Bar plots: "
   ]
  },
  {
   "cell_type": "code",
   "execution_count": 6,
   "metadata": {},
   "outputs": [
    {
     "data": {
      "text/html": [
       "<div>\n",
       "<style scoped>\n",
       "    .dataframe tbody tr th:only-of-type {\n",
       "        vertical-align: middle;\n",
       "    }\n",
       "\n",
       "    .dataframe tbody tr th {\n",
       "        vertical-align: top;\n",
       "    }\n",
       "\n",
       "    .dataframe thead th {\n",
       "        text-align: right;\n",
       "    }\n",
       "</style>\n",
       "<table border=\"1\" class=\"dataframe\">\n",
       "  <thead>\n",
       "    <tr style=\"text-align: right;\">\n",
       "      <th></th>\n",
       "      <th>Brand</th>\n",
       "      <th>Locality</th>\n",
       "      <th>City</th>\n",
       "      <th>State</th>\n",
       "      <th>Price</th>\n",
       "    </tr>\n",
       "  </thead>\n",
       "  <tbody>\n",
       "    <tr>\n",
       "      <th>count</th>\n",
       "      <td>2326.000000</td>\n",
       "      <td>2326.000000</td>\n",
       "      <td>2326.000000</td>\n",
       "      <td>2326.000000</td>\n",
       "      <td>2326.000000</td>\n",
       "    </tr>\n",
       "    <tr>\n",
       "      <th>mean</th>\n",
       "      <td>1.047291</td>\n",
       "      <td>538.894239</td>\n",
       "      <td>7.294067</td>\n",
       "      <td>3.693465</td>\n",
       "      <td>25562.137145</td>\n",
       "    </tr>\n",
       "    <tr>\n",
       "      <th>std</th>\n",
       "      <td>0.396109</td>\n",
       "      <td>333.355186</td>\n",
       "      <td>5.408113</td>\n",
       "      <td>2.194072</td>\n",
       "      <td>21316.854497</td>\n",
       "    </tr>\n",
       "    <tr>\n",
       "      <th>min</th>\n",
       "      <td>0.000000</td>\n",
       "      <td>0.000000</td>\n",
       "      <td>0.000000</td>\n",
       "      <td>0.000000</td>\n",
       "      <td>399.000000</td>\n",
       "    </tr>\n",
       "    <tr>\n",
       "      <th>25%</th>\n",
       "      <td>1.000000</td>\n",
       "      <td>249.000000</td>\n",
       "      <td>2.000000</td>\n",
       "      <td>2.000000</td>\n",
       "      <td>12000.000000</td>\n",
       "    </tr>\n",
       "    <tr>\n",
       "      <th>50%</th>\n",
       "      <td>1.000000</td>\n",
       "      <td>534.000000</td>\n",
       "      <td>8.000000</td>\n",
       "      <td>4.000000</td>\n",
       "      <td>18945.000000</td>\n",
       "    </tr>\n",
       "    <tr>\n",
       "      <th>75%</th>\n",
       "      <td>1.000000</td>\n",
       "      <td>814.000000</td>\n",
       "      <td>11.000000</td>\n",
       "      <td>5.000000</td>\n",
       "      <td>30974.250000</td>\n",
       "    </tr>\n",
       "    <tr>\n",
       "      <th>max</th>\n",
       "      <td>3.000000</td>\n",
       "      <td>1191.000000</td>\n",
       "      <td>17.000000</td>\n",
       "      <td>8.000000</td>\n",
       "      <td>129998.000000</td>\n",
       "    </tr>\n",
       "  </tbody>\n",
       "</table>\n",
       "</div>"
      ],
      "text/plain": [
       "             Brand     Locality         City        State          Price\n",
       "count  2326.000000  2326.000000  2326.000000  2326.000000    2326.000000\n",
       "mean      1.047291   538.894239     7.294067     3.693465   25562.137145\n",
       "std       0.396109   333.355186     5.408113     2.194072   21316.854497\n",
       "min       0.000000     0.000000     0.000000     0.000000     399.000000\n",
       "25%       1.000000   249.000000     2.000000     2.000000   12000.000000\n",
       "50%       1.000000   534.000000     8.000000     4.000000   18945.000000\n",
       "75%       1.000000   814.000000    11.000000     5.000000   30974.250000\n",
       "max       3.000000  1191.000000    17.000000     8.000000  129998.000000"
      ]
     },
     "execution_count": 6,
     "metadata": {},
     "output_type": "execute_result"
    }
   ],
   "source": [
    "train.describe()"
   ]
  },
  {
   "cell_type": "markdown",
   "metadata": {},
   "source": [
    "### 2.3.1 Discrete Variables Plot"
   ]
  },
  {
   "cell_type": "code",
   "execution_count": 9,
   "metadata": {},
   "outputs": [
    {
     "data": {
      "text/plain": [
       "<matplotlib.legend.Legend at 0x4993d70>"
      ]
     },
     "execution_count": 9,
     "metadata": {},
     "output_type": "execute_result"
    },
    {
     "data": {
      "image/png": "[encoded data removed]",
      "text/plain": [
       "<Figure size 1008x360 with 3 Axes>"
      ]
     },
     "metadata": {
      "needs_background": "light"
     },
     "output_type": "display_data"
    }
   ],
   "source": [
    "plt.figure(figsize=(14,5))\n",
    "\n",
    "plt.subplot(1,3,1)\n",
    "train.Brand.value_counts().plot(kind='bar', label = 'Brand')\n",
    "plt.legend()\n",
    "\n",
    "plt.subplot(1,3,2)\n",
    "train.City.value_counts().plot(kind='bar', label = 'City')\n",
    "plt.legend()\n",
    "\n",
    "plt.subplot(1,3,3)\n",
    "train.State.value_counts().plot(kind='bar', label = 'State')\n",
    "plt.legend()\n",
    "\n"
   ]
  },
  {
   "cell_type": "markdown",
   "metadata": {},
   "source": [
    "### 2.3.5 Target Variable Plot"
   ]
  },
  {
   "cell_type": "code",
   "execution_count": 16,
   "metadata": {},
   "outputs": [
    {
     "name": "stderr",
     "output_type": "stream",
     "text": [
      "c:\\users\\bhuwanesh\\appdata\\local\\programs\\python\\python36-32\\lib\\site-packages\\pandas\\plotting\\_matplotlib\\core.py:203: UserWarning: 'colors' is being deprecated. Please use 'color'instead of 'colors'\n",
      "  \"'colors' is being deprecated. Please use 'color'\"\n"
     ]
    },
    {
     "data": {
      "text/plain": [
       "<matplotlib.legend.Legend at 0xd156150>"
      ]
     },
     "execution_count": 16,
     "metadata": {},
     "output_type": "execute_result"
    },
    {
     "data": {
      "image/png": "[encoded data removed]",
      "text/plain": [
       "<Figure size 432x288 with 1 Axes>"
      ]
     },
     "metadata": {
      "needs_background": "light"
     },
     "output_type": "display_data"
    }
   ],
   "source": [
    "train.Price.plot(kind='hist', colors=['teal'], label=\"Price\")\n",
    "plt.legend()"
   ]
  },
  {
   "cell_type": "markdown",
   "metadata": {},
   "source": [
    "# Step3: Feature Engineering"
   ]
  },
  {
   "cell_type": "code",
   "execution_count": 40,
   "metadata": {},
   "outputs": [],
   "source": [
    "def device_memory_category(x):\n",
    "    if (x.find(\"16gb\") != -1) or (x.find(\"16 gb\") != -1):\n",
    "        return 1\n",
    "    elif(x.find(\"32gb\") != -1) or (x.find(\"32 gb\") != -1):\n",
    "        return 2\n",
    "    elif(x.find(\"64gb\") != -1) or (x.find(\"64 gb\") != -1):\n",
    "        return 3\n",
    "    elif(x.find(\"128gb\") != -1) or (x.find(\"128 gb\") != -1):\n",
    "        return 4\n",
    "    elif(x.find(\"256gb\") != -1) or (x.find(\"256 gb\") != -1):\n",
    "        return 1\n",
    "    else:\n",
    "        return 0\n",
    "    \n",
    "def if_iphopne_or_ipad(x):\n",
    "    if (x.find(\"iphone\") != -1) or (x.find(\"ipad\") != -1):\n",
    "        return 1\n",
    "    else:\n",
    "        return 0\n",
    "    \n",
    "def device_condition(x):\n",
    "    if (x.find(\"good\") != -1) or (x.find(\"great\") != -1) or (x.find(\"excellent\") != -1) or (x.find(\"new\") != -1) \\\n",
    "    or (x.find(\"mint\") != -1):\n",
    "        return 1\n",
    "    else:\n",
    "        return 0\n",
    "    \n",
    "def under_warranty(x):\n",
    "    if (x.find(\"billbox\") != -1) or (x.find(\"warranty\") != -1) or (x.find(\"boxbill\") != -1) or (x.find(\"box\") != -1) \\\n",
    "    or (x.find(\"bill box\") != -1):\n",
    "        return 1\n",
    "    else:\n",
    "        return 0\n",
    "\n"
   ]
  },
  {
   "cell_type": "code",
   "execution_count": 44,
   "metadata": {},
   "outputs": [],
   "source": [
    "train[\"device_memory\"] = train[\"Model_Info\"].apply(lambda x: device_memory_category(x))\n",
    "train[\"phone_status\"] = train[\"Model_Info\"].apply(lambda x: if_iphopne_or_ipad(x))\n",
    "train[\"device_condition\"] = train[\"Model_Info\"].apply(lambda x: device_condition(x))\n",
    "train[\"warranty_status\"] = train[\"Additional_Description\"].apply(lambda x: under_warranty(x))"
   ]
  },
  {
   "cell_type": "code",
   "execution_count": 47,
   "metadata": {},
   "outputs": [],
   "source": [
    "train.drop(\"warranty-status\", axis=1, inplace=True)"
   ]
  },
  {
   "cell_type": "code",
   "execution_count": 48,
   "metadata": {},
   "outputs": [
    {
     "data": {
      "text/html": [
       "<div>\n",
       "<style scoped>\n",
       "    .dataframe tbody tr th:only-of-type {\n",
       "        vertical-align: middle;\n",
       "    }\n",
       "\n",
       "    .dataframe tbody tr th {\n",
       "        vertical-align: top;\n",
       "    }\n",
       "\n",
       "    .dataframe thead th {\n",
       "        text-align: right;\n",
       "    }\n",
       "</style>\n",
       "<table border=\"1\" class=\"dataframe\">\n",
       "  <thead>\n",
       "    <tr style=\"text-align: right;\">\n",
       "      <th></th>\n",
       "      <th>Brand</th>\n",
       "      <th>Model_Info</th>\n",
       "      <th>Additional_Description</th>\n",
       "      <th>Locality</th>\n",
       "      <th>City</th>\n",
       "      <th>State</th>\n",
       "      <th>Price</th>\n",
       "      <th>device_memory</th>\n",
       "      <th>phone_status</th>\n",
       "      <th>device_condition</th>\n",
       "      <th>warranty_status</th>\n",
       "    </tr>\n",
       "  </thead>\n",
       "  <tbody>\n",
       "    <tr>\n",
       "      <th>0</th>\n",
       "      <td>1</td>\n",
       "      <td>name0 name234 64gb space grey</td>\n",
       "      <td>1yesr old mobile number 999two905two99 bill c...</td>\n",
       "      <td>878</td>\n",
       "      <td>8</td>\n",
       "      <td>2</td>\n",
       "      <td>15000</td>\n",
       "      <td>3</td>\n",
       "      <td>0</td>\n",
       "      <td>0</td>\n",
       "      <td>0</td>\n",
       "    </tr>\n",
       "    <tr>\n",
       "      <th>1</th>\n",
       "      <td>1</td>\n",
       "      <td>phone 7 name42 name453 new condition box acce...</td>\n",
       "      <td>101004800 1010065900 7000</td>\n",
       "      <td>1081</td>\n",
       "      <td>4</td>\n",
       "      <td>0</td>\n",
       "      <td>18800</td>\n",
       "      <td>0</td>\n",
       "      <td>0</td>\n",
       "      <td>1</td>\n",
       "      <td>0</td>\n",
       "    </tr>\n",
       "    <tr>\n",
       "      <th>2</th>\n",
       "      <td>1</td>\n",
       "      <td>name0 x 256gb leess used good condition</td>\n",
       "      <td>1010010000 seperate screen guard 3 back cover...</td>\n",
       "      <td>495</td>\n",
       "      <td>11</td>\n",
       "      <td>4</td>\n",
       "      <td>50000</td>\n",
       "      <td>1</td>\n",
       "      <td>0</td>\n",
       "      <td>1</td>\n",
       "      <td>0</td>\n",
       "    </tr>\n",
       "    <tr>\n",
       "      <th>3</th>\n",
       "      <td>1</td>\n",
       "      <td>name0 6s plus 64 gb space grey</td>\n",
       "      <td>without 1010020100 id 1010010300 colour 10100...</td>\n",
       "      <td>287</td>\n",
       "      <td>10</td>\n",
       "      <td>7</td>\n",
       "      <td>16500</td>\n",
       "      <td>3</td>\n",
       "      <td>0</td>\n",
       "      <td>0</td>\n",
       "      <td>1</td>\n",
       "    </tr>\n",
       "    <tr>\n",
       "      <th>4</th>\n",
       "      <td>1</td>\n",
       "      <td>phone 7 sealed pack brand new factory outet p...</td>\n",
       "      <td>101008700 10100000 xs max 64 gb made 10100850...</td>\n",
       "      <td>342</td>\n",
       "      <td>4</td>\n",
       "      <td>0</td>\n",
       "      <td>26499</td>\n",
       "      <td>0</td>\n",
       "      <td>0</td>\n",
       "      <td>1</td>\n",
       "      <td>1</td>\n",
       "    </tr>\n",
       "  </tbody>\n",
       "</table>\n",
       "</div>"
      ],
      "text/plain": [
       "   Brand                                         Model_Info  \\\n",
       "0      1                      name0 name234 64gb space grey   \n",
       "1      1   phone 7 name42 name453 new condition box acce...   \n",
       "2      1            name0 x 256gb leess used good condition   \n",
       "3      1                     name0 6s plus 64 gb space grey   \n",
       "4      1   phone 7 sealed pack brand new factory outet p...   \n",
       "\n",
       "                              Additional_Description  Locality  City  State  \\\n",
       "0   1yesr old mobile number 999two905two99 bill c...       878     8      2   \n",
       "1                          101004800 1010065900 7000      1081     4      0   \n",
       "2   1010010000 seperate screen guard 3 back cover...       495    11      4   \n",
       "3   without 1010020100 id 1010010300 colour 10100...       287    10      7   \n",
       "4   101008700 10100000 xs max 64 gb made 10100850...       342     4      0   \n",
       "\n",
       "   Price  device_memory  phone_status  device_condition  warranty_status  \n",
       "0  15000              3             0                 0                0  \n",
       "1  18800              0             0                 1                0  \n",
       "2  50000              1             0                 1                0  \n",
       "3  16500              3             0                 0                1  \n",
       "4  26499              0             0                 1                1  "
      ]
     },
     "execution_count": 48,
     "metadata": {},
     "output_type": "execute_result"
    }
   ],
   "source": [
    "train.head()"
   ]
  },
  {
   "cell_type": "code",
   "execution_count": 49,
   "metadata": {},
   "outputs": [
    {
     "data": {
      "text/plain": [
       "<matplotlib.legend.Legend at 0xf1cee50>"
      ]
     },
     "execution_count": 49,
     "metadata": {},
     "output_type": "execute_result"
    },
    {
     "data": {
      "image/png": "[encoded data removed]",
      "text/plain": [
       "<Figure size 1008x360 with 4 Axes>"
      ]
     },
     "metadata": {
      "needs_background": "light"
     },
     "output_type": "display_data"
    }
   ],
   "source": [
    "plt.figure(figsize=(14,5))\n",
    "\n",
    "plt.subplot(2,2,1)\n",
    "train.device_memory.value_counts().plot(kind='bar', label = 'device_memory')\n",
    "plt.legend()\n",
    "\n",
    "plt.subplot(2,2,2)\n",
    "train.phone_status.value_counts().plot(kind='bar', label = 'phone_status')\n",
    "plt.legend()\n",
    "\n",
    "plt.subplot(2,2,3)\n",
    "train.device_condition.value_counts().plot(kind='bar', label = 'device_condition')\n",
    "plt.legend()\n",
    "\n",
    "plt.subplot(2,2,4)\n",
    "train.warranty_status.value_counts().plot(kind='bar', label = 'warranty_status')\n",
    "plt.legend()\n"
   ]
  },
  {
   "cell_type": "code",
   "execution_count": 90,
   "metadata": {},
   "outputs": [
    {
     "data": {
      "text/html": [
       "<div>\n",
       "<style scoped>\n",
       "    .dataframe tbody tr th:only-of-type {\n",
       "        vertical-align: middle;\n",
       "    }\n",
       "\n",
       "    .dataframe tbody tr th {\n",
       "        vertical-align: top;\n",
       "    }\n",
       "\n",
       "    .dataframe thead th {\n",
       "        text-align: right;\n",
       "    }\n",
       "</style>\n",
       "<table border=\"1\" class=\"dataframe\">\n",
       "  <thead>\n",
       "    <tr style=\"text-align: right;\">\n",
       "      <th></th>\n",
       "      <th>Brand</th>\n",
       "      <th>Model_Info</th>\n",
       "      <th>Additional_Description</th>\n",
       "      <th>Locality</th>\n",
       "      <th>City</th>\n",
       "      <th>State</th>\n",
       "      <th>Price</th>\n",
       "      <th>device_memory</th>\n",
       "      <th>phone_status</th>\n",
       "      <th>device_condition</th>\n",
       "      <th>warranty_status</th>\n",
       "    </tr>\n",
       "  </thead>\n",
       "  <tbody>\n",
       "    <tr>\n",
       "      <th>0</th>\n",
       "      <td>1</td>\n",
       "      <td>name0 name234 64gb space grey</td>\n",
       "      <td>1yesr old mobile number 999two905two99 bill c...</td>\n",
       "      <td>878</td>\n",
       "      <td>8</td>\n",
       "      <td>2</td>\n",
       "      <td>15000</td>\n",
       "      <td>3</td>\n",
       "      <td>0</td>\n",
       "      <td>0</td>\n",
       "      <td>0</td>\n",
       "    </tr>\n",
       "    <tr>\n",
       "      <th>1</th>\n",
       "      <td>1</td>\n",
       "      <td>phone 7 name42 name453 new condition box acce...</td>\n",
       "      <td>101004800 1010065900 7000</td>\n",
       "      <td>1081</td>\n",
       "      <td>4</td>\n",
       "      <td>0</td>\n",
       "      <td>18800</td>\n",
       "      <td>0</td>\n",
       "      <td>0</td>\n",
       "      <td>1</td>\n",
       "      <td>0</td>\n",
       "    </tr>\n",
       "    <tr>\n",
       "      <th>2</th>\n",
       "      <td>1</td>\n",
       "      <td>name0 x 256gb leess used good condition</td>\n",
       "      <td>1010010000 seperate screen guard 3 back cover...</td>\n",
       "      <td>495</td>\n",
       "      <td>11</td>\n",
       "      <td>4</td>\n",
       "      <td>50000</td>\n",
       "      <td>1</td>\n",
       "      <td>0</td>\n",
       "      <td>1</td>\n",
       "      <td>0</td>\n",
       "    </tr>\n",
       "    <tr>\n",
       "      <th>3</th>\n",
       "      <td>1</td>\n",
       "      <td>name0 6s plus 64 gb space grey</td>\n",
       "      <td>without 1010020100 id 1010010300 colour 10100...</td>\n",
       "      <td>287</td>\n",
       "      <td>10</td>\n",
       "      <td>7</td>\n",
       "      <td>16500</td>\n",
       "      <td>3</td>\n",
       "      <td>0</td>\n",
       "      <td>0</td>\n",
       "      <td>1</td>\n",
       "    </tr>\n",
       "    <tr>\n",
       "      <th>4</th>\n",
       "      <td>1</td>\n",
       "      <td>phone 7 sealed pack brand new factory outet p...</td>\n",
       "      <td>101008700 10100000 xs max 64 gb made 10100850...</td>\n",
       "      <td>342</td>\n",
       "      <td>4</td>\n",
       "      <td>0</td>\n",
       "      <td>26499</td>\n",
       "      <td>0</td>\n",
       "      <td>0</td>\n",
       "      <td>1</td>\n",
       "      <td>1</td>\n",
       "    </tr>\n",
       "  </tbody>\n",
       "</table>\n",
       "</div>"
      ],
      "text/plain": [
       "   Brand                                         Model_Info  \\\n",
       "0      1                      name0 name234 64gb space grey   \n",
       "1      1   phone 7 name42 name453 new condition box acce...   \n",
       "2      1            name0 x 256gb leess used good condition   \n",
       "3      1                     name0 6s plus 64 gb space grey   \n",
       "4      1   phone 7 sealed pack brand new factory outet p...   \n",
       "\n",
       "                              Additional_Description  Locality  City  State  \\\n",
       "0   1yesr old mobile number 999two905two99 bill c...       878     8      2   \n",
       "1                          101004800 1010065900 7000      1081     4      0   \n",
       "2   1010010000 seperate screen guard 3 back cover...       495    11      4   \n",
       "3   without 1010020100 id 1010010300 colour 10100...       287    10      7   \n",
       "4   101008700 10100000 xs max 64 gb made 10100850...       342     4      0   \n",
       "\n",
       "   Price  device_memory  phone_status  device_condition  warranty_status  \n",
       "0  15000              3             0                 0                0  \n",
       "1  18800              0             0                 1                0  \n",
       "2  50000              1             0                 1                0  \n",
       "3  16500              3             0                 0                1  \n",
       "4  26499              0             0                 1                1  "
      ]
     },
     "execution_count": 90,
     "metadata": {},
     "output_type": "execute_result"
    }
   ],
   "source": [
    "train.head()"
   ]
  },
  {
   "cell_type": "code",
   "execution_count": 100,
   "metadata": {},
   "outputs": [
    {
     "data": {
      "text/plain": [
       "Index(['Brand', 'Model_Info', 'Additional_Description', 'Locality', 'City',\n",
       "       'State', 'Price', 'device_memory', 'phone_status', 'device_condition',\n",
       "       'warranty_status'],\n",
       "      dtype='object')"
      ]
     },
     "execution_count": 100,
     "metadata": {},
     "output_type": "execute_result"
    }
   ],
   "source": [
    "train.columns"
   ]
  },
  {
   "cell_type": "markdown",
   "metadata": {},
   "source": [
    "## 3.1 Dummy Variable Creation"
   ]
  },
  {
   "cell_type": "code",
   "execution_count": 103,
   "metadata": {
    "scrolled": true
   },
   "outputs": [],
   "source": [
    "train = pd.get_dummies(data=train, columns=['City','State','device_memory'], \n",
    "               prefix=['City', 'State', 'Device_memory'], \n",
    "               drop_first=True)"
   ]
  },
  {
   "cell_type": "code",
   "execution_count": 154,
   "metadata": {},
   "outputs": [],
   "source": [
    "train['City_5'] = 0\n",
    "train['City_6'] = 0\n",
    "train['City_18'] = 0 \n",
    "train['City_19'] = 0"
   ]
  },
  {
   "cell_type": "code",
   "execution_count": 155,
   "metadata": {},
   "outputs": [
    {
     "data": {
      "text/plain": [
       "(2326, 39)"
      ]
     },
     "execution_count": 155,
     "metadata": {},
     "output_type": "execute_result"
    }
   ],
   "source": [
    "train.shape"
   ]
  },
  {
   "cell_type": "code",
   "execution_count": 156,
   "metadata": {},
   "outputs": [
    {
     "data": {
      "text/plain": [
       "Index(['Brand', 'Model_Info', 'Additional_Description', 'Locality', 'Price',\n",
       "       'phone_status', 'device_condition', 'warranty_status', 'City_1',\n",
       "       'City_2', 'City_3', 'City_4', 'City_5', 'City_6', 'City_7', 'City_8',\n",
       "       'City_9', 'City_10', 'City_11', 'City_12', 'City_13', 'City_14',\n",
       "       'City_15', 'City_16', 'City_17', 'State_1', 'State_2', 'State_3',\n",
       "       'State_4', 'State_5', 'State_6', 'State_7', 'State_8',\n",
       "       'Device_memory_1', 'Device_memory_2', 'Device_memory_3',\n",
       "       'Device_memory_4', 'City_18', 'City_19'],\n",
       "      dtype='object')"
      ]
     },
     "execution_count": 156,
     "metadata": {},
     "output_type": "execute_result"
    }
   ],
   "source": [
    "train.columns"
   ]
  },
  {
   "cell_type": "code",
   "execution_count": 157,
   "metadata": {},
   "outputs": [],
   "source": [
    "train = train[['Brand', 'Model_Info', 'Additional_Description', 'Locality', 'Price',\n",
    "       'phone_status', 'device_condition', 'warranty_status', 'City_1',\n",
    "       'City_2', 'City_3', 'City_4', 'City_5', 'City_6', 'City_7', 'City_8', 'City_9', 'City_10',\n",
    "       'City_11', 'City_12', 'City_13', 'City_14', 'City_15', 'City_16',\n",
    "       'City_17', 'City_18', 'City_19', 'State_1', 'State_2', 'State_3', 'State_4', 'State_5',\n",
    "       'State_6', 'State_7', 'State_8', 'Device_memory_1', 'Device_memory_2',\n",
    "       'Device_memory_3', 'Device_memory_4']]"
   ]
  },
  {
   "cell_type": "markdown",
   "metadata": {},
   "source": [
    "# Step4: Separating X and Y"
   ]
  },
  {
   "cell_type": "markdown",
   "metadata": {},
   "source": [
    "## 4.1 Re-setting Index Before Splitting"
   ]
  },
  {
   "cell_type": "code",
   "execution_count": 158,
   "metadata": {},
   "outputs": [],
   "source": [
    "train.reset_index(drop=True, inplace=True)"
   ]
  },
  {
   "cell_type": "markdown",
   "metadata": {},
   "source": [
    "## 4.2 Split Data"
   ]
  },
  {
   "cell_type": "code",
   "execution_count": 159,
   "metadata": {},
   "outputs": [],
   "source": [
    "x = train.drop(['Price', 'Model_Info', 'Additional_Description'], axis=1)\n",
    "y = train['Price']"
   ]
  },
  {
   "cell_type": "code",
   "execution_count": 160,
   "metadata": {},
   "outputs": [],
   "source": [
    "x_copy = x.copy()"
   ]
  },
  {
   "cell_type": "code",
   "execution_count": null,
   "metadata": {},
   "outputs": [],
   "source": []
  },
  {
   "cell_type": "markdown",
   "metadata": {},
   "source": [
    "# Step5: Creating Train and Test Set In Ratio 80:20"
   ]
  },
  {
   "cell_type": "code",
   "execution_count": 161,
   "metadata": {},
   "outputs": [],
   "source": [
    "# Splitting the dataset into the Training set and Test set\n",
    "from sklearn.model_selection import train_test_split\n",
    "X_train, X_test, y_train, y_test = train_test_split(x, y, test_size = 0.2, random_state = 100)"
   ]
  },
  {
   "cell_type": "code",
   "execution_count": null,
   "metadata": {},
   "outputs": [],
   "source": []
  },
  {
   "cell_type": "markdown",
   "metadata": {},
   "source": [
    "# Step6: Model Building"
   ]
  },
  {
   "cell_type": "code",
   "execution_count": 55,
   "metadata": {},
   "outputs": [],
   "source": [
    "from sklearn.linear_model import ElasticNet, Lasso,  BayesianRidge, LassoLarsIC\n",
    "from sklearn.ensemble import RandomForestRegressor,  GradientBoostingRegressor\n",
    "from sklearn.kernel_ridge import KernelRidge\n",
    "from sklearn.pipeline import make_pipeline\n",
    "from sklearn.preprocessing import RobustScaler\n",
    "from sklearn.base import BaseEstimator, TransformerMixin, RegressorMixin, clone\n",
    "from sklearn.model_selection import KFold, cross_val_score, train_test_split\n",
    "from sklearn.metrics import mean_squared_error\n"
   ]
  },
  {
   "cell_type": "markdown",
   "metadata": {},
   "source": [
    "## 6.2 Importing and Model Fitting"
   ]
  },
  {
   "cell_type": "code",
   "execution_count": 41,
   "metadata": {},
   "outputs": [],
   "source": [
    "from sklearn.pipeline import Pipeline\n",
    "from sklearn.model_selection import GridSearchCV\n",
    "from sklearn.metrics import roc_curve, auc, classification_report, confusion_matrix, accuracy_score, roc_auc_score\n",
    "from sklearn.metrics import classification_report\n"
   ]
  },
  {
   "cell_type": "markdown",
   "metadata": {},
   "source": [
    "### 6.2.1 Averaged base models class"
   ]
  },
  {
   "cell_type": "code",
   "execution_count": 62,
   "metadata": {},
   "outputs": [],
   "source": [
    "#Define a cross validation strategy\n",
    "\n",
    "#We use the cross_val_score function of Sklearn. However this function has not a shuffle attribut, we add then one line of code, in order to shuffle the dataset prior to cross-validation\n",
    "\n",
    "#Validation function\n",
    "n_folds = 5\n",
    "\n",
    "def rmsle_cv(model):\n",
    "    kf = KFold(n_folds, shuffle=True, random_state=42).get_n_splits(train.values)\n",
    "    rmse= np.sqrt(-cross_val_score(model, X_train.values, y_train, scoring=\"neg_mean_squared_error\", cv = kf))\n",
    "    return(rmse)"
   ]
  },
  {
   "cell_type": "code",
   "execution_count": 60,
   "metadata": {},
   "outputs": [],
   "source": [
    "#Base models\n",
    "\n",
    "#LASSO Regression :\n",
    "#This model may be very sensitive to outliers. So we need to made it more robust on them. \n",
    "#For that we use the sklearn's Robustscaler() method on pipeline\n",
    "\n",
    "lasso = make_pipeline(RobustScaler(), Lasso(alpha =0.0005, random_state=1))\n",
    "\n",
    "#Elastic Net Regression : again made robust to outliers\n",
    "\n",
    "ENet = make_pipeline(RobustScaler(), ElasticNet(alpha=0.0005, l1_ratio=.9, random_state=3))\n",
    "\n",
    "#Kernel Ridge Regression :\n",
    "\n",
    "KRR = KernelRidge(alpha=0.6, kernel='polynomial', degree=2, coef0=2.5)\n",
    "\n",
    "#Gradient Boosting Regression : With huber loss that makes it robust to outliers\n",
    "\n",
    "GBoost = GradientBoostingRegressor(n_estimators=3000, learning_rate=0.05,\n",
    "                                   max_depth=4, max_features='sqrt',\n",
    "                                   min_samples_leaf=15, min_samples_split=10, \n",
    "                                   loss='huber', random_state =5)"
   ]
  },
  {
   "cell_type": "code",
   "execution_count": 109,
   "metadata": {
    "scrolled": true
   },
   "outputs": [
    {
     "name": "stderr",
     "output_type": "stream",
     "text": [
      "C:\\Users\\Bhuwanesh\\AppData\\Roaming\\Python\\Python36\\site-packages\\sklearn\\linear_model\\_coordinate_descent.py:531: ConvergenceWarning: Objective did not converge. You might want to increase the number of iterations. Duality gap: 100066036247.28519, tolerance: 69421837.59904732\n",
      "  positive)\n",
      "C:\\Users\\Bhuwanesh\\AppData\\Roaming\\Python\\Python36\\site-packages\\sklearn\\linear_model\\_coordinate_descent.py:531: ConvergenceWarning: Objective did not converge. You might want to increase the number of iterations. Duality gap: 48129340819.77545, tolerance: 70984584.91366124\n",
      "  positive)\n",
      "C:\\Users\\Bhuwanesh\\AppData\\Roaming\\Python\\Python36\\site-packages\\sklearn\\linear_model\\_coordinate_descent.py:531: ConvergenceWarning: Objective did not converge. You might want to increase the number of iterations. Duality gap: 107879578016.8403, tolerance: 70972812.01120624\n",
      "  positive)\n",
      "C:\\Users\\Bhuwanesh\\AppData\\Roaming\\Python\\Python36\\site-packages\\sklearn\\linear_model\\_coordinate_descent.py:531: ConvergenceWarning: Objective did not converge. You might want to increase the number of iterations. Duality gap: 92123865861.04507, tolerance: 69255769.4639752\n",
      "  positive)\n",
      "C:\\Users\\Bhuwanesh\\AppData\\Roaming\\Python\\Python36\\site-packages\\sklearn\\linear_model\\_coordinate_descent.py:531: ConvergenceWarning: Objective did not converge. You might want to increase the number of iterations. Duality gap: 114938834733.531, tolerance: 69231133.14185697\n",
      "  positive)\n"
     ]
    },
    {
     "name": "stdout",
     "output_type": "stream",
     "text": [
      "\n",
      "Lasso score: 20163.6531 (730.4955)\n",
      "\n"
     ]
    },
    {
     "name": "stderr",
     "output_type": "stream",
     "text": [
      "C:\\Users\\Bhuwanesh\\AppData\\Roaming\\Python\\Python36\\site-packages\\sklearn\\linear_model\\_coordinate_descent.py:531: ConvergenceWarning: Objective did not converge. You might want to increase the number of iterations. Duality gap: 292966775631.3916, tolerance: 69421837.59904732\n",
      "  positive)\n",
      "C:\\Users\\Bhuwanesh\\AppData\\Roaming\\Python\\Python36\\site-packages\\sklearn\\linear_model\\_coordinate_descent.py:531: ConvergenceWarning: Objective did not converge. You might want to increase the number of iterations. Duality gap: 296725193411.76776, tolerance: 70984584.91366124\n",
      "  positive)\n",
      "C:\\Users\\Bhuwanesh\\AppData\\Roaming\\Python\\Python36\\site-packages\\sklearn\\linear_model\\_coordinate_descent.py:531: ConvergenceWarning: Objective did not converge. You might want to increase the number of iterations. Duality gap: 296483416710.8982, tolerance: 70972812.01120624\n",
      "  positive)\n",
      "C:\\Users\\Bhuwanesh\\AppData\\Roaming\\Python\\Python36\\site-packages\\sklearn\\linear_model\\_coordinate_descent.py:531: ConvergenceWarning: Objective did not converge. You might want to increase the number of iterations. Duality gap: 282896864131.4085, tolerance: 69255769.4639752\n",
      "  positive)\n",
      "C:\\Users\\Bhuwanesh\\AppData\\Roaming\\Python\\Python36\\site-packages\\sklearn\\linear_model\\_coordinate_descent.py:531: ConvergenceWarning: Objective did not converge. You might want to increase the number of iterations. Duality gap: 291683955761.6562, tolerance: 69231133.14185697\n",
      "  positive)\n"
     ]
    },
    {
     "name": "stdout",
     "output_type": "stream",
     "text": [
      "ElasticNet score: 20163.0262 (727.2152)\n",
      "\n",
      "Kernel Ridge score: 19982.0485 (713.3016)\n",
      "\n",
      "Gradient Boosting score: 20001.3161 (686.3856)\n",
      "\n"
     ]
    }
   ],
   "source": [
    "#Base models scores\n",
    "#Let's see how these base models perform on the data by evaluating the cross-validation rmsle error\n",
    "\n",
    "score = rmsle_cv(lasso)\n",
    "print(\"\\nLasso score: {:.4f} ({:.4f})\\n\".format(score.mean(), score.std()))\n",
    "\n",
    "score = rmsle_cv(ENet)\n",
    "print(\"ElasticNet score: {:.4f} ({:.4f})\\n\".format(score.mean(), score.std()))\n",
    "\n",
    "score = rmsle_cv(KRR)\n",
    "print(\"Kernel Ridge score: {:.4f} ({:.4f})\\n\".format(score.mean(), score.std()))\n",
    "\n",
    "score = rmsle_cv(GBoost)\n",
    "print(\"Gradient Boosting score: {:.4f} ({:.4f})\\n\".format(score.mean(), score.std()))\n",
    "\n"
   ]
  },
  {
   "cell_type": "markdown",
   "metadata": {},
   "source": [
    "## Stacking models\n",
    "#### Simplest Stacking approach : Averaging base models\n",
    "\n",
    "We begin with this simple approach of averaging base models. We build a new class to extend scikit-learn with our model and also to laverage encapsulation and code reuse (inheritance)\n",
    "\n",
    "### Averaged base models class"
   ]
  },
  {
   "cell_type": "code",
   "execution_count": 67,
   "metadata": {},
   "outputs": [],
   "source": [
    "class AveragingModels(BaseEstimator, RegressorMixin, TransformerMixin):\n",
    "    def __init__(self, models):\n",
    "        self.models = models\n",
    "        \n",
    "    # we define clones of the original models to fit the data in\n",
    "    def fit(self, X, y):\n",
    "        self.models_ = [clone(x) for x in self.models]\n",
    "        \n",
    "        # Train cloned base models\n",
    "        for model in self.models_:\n",
    "            model.fit(X, y)\n",
    "\n",
    "        return self\n",
    "    \n",
    "    #Now we do the predictions for cloned models and average them\n",
    "    def predict(self, X):\n",
    "        predictions = np.column_stack([\n",
    "            model.predict(X) for model in self.models_\n",
    "        ])\n",
    "        return np.mean(predictions, axis=1) "
   ]
  },
  {
   "cell_type": "markdown",
   "metadata": {},
   "source": [
    "Averaged base models score\n",
    "\n",
    "We just average four models here ENet, GBoost, KRR and lasso. Of course we could easily add more models in the mix"
   ]
  },
  {
   "cell_type": "code",
   "execution_count": 162,
   "metadata": {
    "scrolled": true
   },
   "outputs": [
    {
     "name": "stderr",
     "output_type": "stream",
     "text": [
      "C:\\Users\\Bhuwanesh\\AppData\\Roaming\\Python\\Python36\\site-packages\\sklearn\\linear_model\\_coordinate_descent.py:531: ConvergenceWarning: Objective did not converge. You might want to increase the number of iterations. Duality gap: 292966775631.3916, tolerance: 69421837.59904732\n",
      "  positive)\n",
      "C:\\Users\\Bhuwanesh\\AppData\\Roaming\\Python\\Python36\\site-packages\\sklearn\\linear_model\\_coordinate_descent.py:531: ConvergenceWarning: Objective did not converge. You might want to increase the number of iterations. Duality gap: 100066036247.28519, tolerance: 69421837.59904732\n",
      "  positive)\n",
      "C:\\Users\\Bhuwanesh\\AppData\\Roaming\\Python\\Python36\\site-packages\\sklearn\\linear_model\\_coordinate_descent.py:531: ConvergenceWarning: Objective did not converge. You might want to increase the number of iterations. Duality gap: 296725193411.76776, tolerance: 70984584.91366124\n",
      "  positive)\n",
      "C:\\Users\\Bhuwanesh\\AppData\\Roaming\\Python\\Python36\\site-packages\\sklearn\\linear_model\\_coordinate_descent.py:531: ConvergenceWarning: Objective did not converge. You might want to increase the number of iterations. Duality gap: 48129340819.77545, tolerance: 70984584.91366124\n",
      "  positive)\n",
      "C:\\Users\\Bhuwanesh\\AppData\\Roaming\\Python\\Python36\\site-packages\\sklearn\\linear_model\\_coordinate_descent.py:531: ConvergenceWarning: Objective did not converge. You might want to increase the number of iterations. Duality gap: 296483416710.8982, tolerance: 70972812.01120624\n",
      "  positive)\n",
      "C:\\Users\\Bhuwanesh\\AppData\\Roaming\\Python\\Python36\\site-packages\\sklearn\\linear_model\\_coordinate_descent.py:531: ConvergenceWarning: Objective did not converge. You might want to increase the number of iterations. Duality gap: 107879578016.8403, tolerance: 70972812.01120624\n",
      "  positive)\n",
      "C:\\Users\\Bhuwanesh\\AppData\\Roaming\\Python\\Python36\\site-packages\\sklearn\\linear_model\\_coordinate_descent.py:531: ConvergenceWarning: Objective did not converge. You might want to increase the number of iterations. Duality gap: 282896864131.4085, tolerance: 69255769.4639752\n",
      "  positive)\n",
      "C:\\Users\\Bhuwanesh\\AppData\\Roaming\\Python\\Python36\\site-packages\\sklearn\\linear_model\\_coordinate_descent.py:531: ConvergenceWarning: Objective did not converge. You might want to increase the number of iterations. Duality gap: 92123865861.04507, tolerance: 69255769.4639752\n",
      "  positive)\n",
      "C:\\Users\\Bhuwanesh\\AppData\\Roaming\\Python\\Python36\\site-packages\\sklearn\\linear_model\\_coordinate_descent.py:531: ConvergenceWarning: Objective did not converge. You might want to increase the number of iterations. Duality gap: 291683955761.6562, tolerance: 69231133.14185697\n",
      "  positive)\n"
     ]
    },
    {
     "name": "stdout",
     "output_type": "stream",
     "text": [
      " Averaged base models score: 19638.3114 (727.1603)\n",
      "\n"
     ]
    },
    {
     "name": "stderr",
     "output_type": "stream",
     "text": [
      "C:\\Users\\Bhuwanesh\\AppData\\Roaming\\Python\\Python36\\site-packages\\sklearn\\linear_model\\_coordinate_descent.py:531: ConvergenceWarning: Objective did not converge. You might want to increase the number of iterations. Duality gap: 114938834733.531, tolerance: 69231133.14185697\n",
      "  positive)\n"
     ]
    }
   ],
   "source": [
    "averaged_models = AveragingModels(models = (ENet, GBoost, KRR, lasso))\n",
    "\n",
    "score = rmsle_cv(averaged_models)\n",
    "print(\" Averaged base models score: {:.4f} ({:.4f})\\n\".format(score.mean(), score.std()))"
   ]
  },
  {
   "cell_type": "code",
   "execution_count": 163,
   "metadata": {},
   "outputs": [
    {
     "data": {
      "text/plain": [
       "Brand               0\n",
       "Locality            0\n",
       "phone_status        0\n",
       "device_condition    0\n",
       "warranty_status     0\n",
       "City_1              0\n",
       "City_2              0\n",
       "City_3              0\n",
       "City_4              0\n",
       "City_5              0\n",
       "City_6              0\n",
       "City_7              0\n",
       "City_8              0\n",
       "City_9              0\n",
       "City_10             0\n",
       "City_11             0\n",
       "City_12             0\n",
       "City_13             0\n",
       "City_14             0\n",
       "City_15             0\n",
       "City_16             0\n",
       "City_17             0\n",
       "City_18             0\n",
       "City_19             0\n",
       "State_1             0\n",
       "State_2             0\n",
       "State_3             0\n",
       "State_4             0\n",
       "State_5             0\n",
       "State_6             0\n",
       "State_7             0\n",
       "State_8             0\n",
       "Device_memory_1     0\n",
       "Device_memory_2     0\n",
       "Device_memory_3     0\n",
       "Device_memory_4     0\n",
       "dtype: int64"
      ]
     },
     "execution_count": 163,
     "metadata": {},
     "output_type": "execute_result"
    }
   ],
   "source": [
    "X_train.isnull().sum()"
   ]
  },
  {
   "cell_type": "code",
   "execution_count": null,
   "metadata": {},
   "outputs": [],
   "source": []
  },
  {
   "cell_type": "code",
   "execution_count": 164,
   "metadata": {},
   "outputs": [
    {
     "name": "stderr",
     "output_type": "stream",
     "text": [
      "C:\\Users\\Bhuwanesh\\AppData\\Roaming\\Python\\Python36\\site-packages\\sklearn\\linear_model\\_coordinate_descent.py:531: ConvergenceWarning: Objective did not converge. You might want to increase the number of iterations. Duality gap: 366198125845.50806, tolerance: 87468291.80268447\n",
      "  positive)\n",
      "C:\\Users\\Bhuwanesh\\AppData\\Roaming\\Python\\Python36\\site-packages\\sklearn\\linear_model\\_coordinate_descent.py:531: ConvergenceWarning: Objective did not converge. You might want to increase the number of iterations. Duality gap: 122861375804.35052, tolerance: 87468291.80268447\n",
      "  positive)\n"
     ]
    }
   ],
   "source": [
    "model = averaged_models.fit(X_train, y_train)\n",
    "predictions = model.predict(X_test)"
   ]
  },
  {
   "cell_type": "code",
   "execution_count": 165,
   "metadata": {},
   "outputs": [
    {
     "data": {
      "text/plain": [
       "354506862.5778474"
      ]
     },
     "execution_count": 165,
     "metadata": {},
     "output_type": "execute_result"
    }
   ],
   "source": [
    "mean_squared_error(predictions, y_test)"
   ]
  },
  {
   "cell_type": "code",
   "execution_count": 166,
   "metadata": {},
   "outputs": [
    {
     "name": "stderr",
     "output_type": "stream",
     "text": [
      "C:\\Users\\Bhuwanesh\\AppData\\Roaming\\Python\\Python36\\site-packages\\sklearn\\linear_model\\_coordinate_descent.py:531: ConvergenceWarning: Objective did not converge. You might want to increase the number of iterations. Duality gap: 449844754641.1994, tolerance: 105649926.41492508\n",
      "  positive)\n",
      "C:\\Users\\Bhuwanesh\\AppData\\Roaming\\Python\\Python36\\site-packages\\sklearn\\linear_model\\_coordinate_descent.py:531: ConvergenceWarning: Objective did not converge. You might want to increase the number of iterations. Duality gap: 162904843794.05103, tolerance: 105649926.41492508\n",
      "  positive)\n"
     ]
    }
   ],
   "source": [
    "#On Full Data\n",
    "\n",
    "model_full = averaged_models.fit(x, y)"
   ]
  },
  {
   "cell_type": "code",
   "execution_count": null,
   "metadata": {},
   "outputs": [],
   "source": []
  },
  {
   "cell_type": "markdown",
   "metadata": {},
   "source": [
    "# Phase2: Applying Model On Test Data"
   ]
  },
  {
   "cell_type": "code",
   "execution_count": 137,
   "metadata": {},
   "outputs": [
    {
     "data": {
      "text/plain": [
       "(997, 6)"
      ]
     },
     "execution_count": 137,
     "metadata": {},
     "output_type": "execute_result"
    }
   ],
   "source": [
    "test = pd.read_csv('Test.csv')\n",
    "\n",
    "test.shape"
   ]
  },
  {
   "cell_type": "code",
   "execution_count": 138,
   "metadata": {},
   "outputs": [
    {
     "data": {
      "text/html": [
       "<div>\n",
       "<style scoped>\n",
       "    .dataframe tbody tr th:only-of-type {\n",
       "        vertical-align: middle;\n",
       "    }\n",
       "\n",
       "    .dataframe tbody tr th {\n",
       "        vertical-align: top;\n",
       "    }\n",
       "\n",
       "    .dataframe thead th {\n",
       "        text-align: right;\n",
       "    }\n",
       "</style>\n",
       "<table border=\"1\" class=\"dataframe\">\n",
       "  <thead>\n",
       "    <tr style=\"text-align: right;\">\n",
       "      <th></th>\n",
       "      <th>Brand</th>\n",
       "      <th>Model_Info</th>\n",
       "      <th>Additional_Description</th>\n",
       "      <th>Locality</th>\n",
       "      <th>City</th>\n",
       "      <th>State</th>\n",
       "    </tr>\n",
       "  </thead>\n",
       "  <tbody>\n",
       "    <tr>\n",
       "      <th>0</th>\n",
       "      <td>1</td>\n",
       "      <td>name0 55s66s66s778xxsxsmax etc</td>\n",
       "      <td>good condition 11months old single scratch we...</td>\n",
       "      <td>570</td>\n",
       "      <td>11</td>\n",
       "      <td>4</td>\n",
       "    </tr>\n",
       "    <tr>\n",
       "      <th>1</th>\n",
       "      <td>1</td>\n",
       "      <td>slightly used excellent condition name0 5 sale</td>\n",
       "      <td>101008700 1010030600 1010034300 10100192200 1...</td>\n",
       "      <td>762</td>\n",
       "      <td>8</td>\n",
       "      <td>2</td>\n",
       "    </tr>\n",
       "    <tr>\n",
       "      <th>2</th>\n",
       "      <td>1</td>\n",
       "      <td>name0 sx ios12 top letast model bill call</td>\n",
       "      <td>1010017300 delivery</td>\n",
       "      <td>60</td>\n",
       "      <td>13</td>\n",
       "      <td>5</td>\n",
       "    </tr>\n",
       "    <tr>\n",
       "      <th>3</th>\n",
       "      <td>1</td>\n",
       "      <td>name87 name0 x 64gb going lowest 41900</td>\n",
       "      <td>phone 1010023400 64 gb excellent condition sale</td>\n",
       "      <td>640</td>\n",
       "      <td>15</td>\n",
       "      <td>5</td>\n",
       "    </tr>\n",
       "    <tr>\n",
       "      <th>4</th>\n",
       "      <td>1</td>\n",
       "      <td>name0 5s proper condition one handedly used</td>\n",
       "      <td>full kit available 10100248300 condition 4gb ...</td>\n",
       "      <td>816</td>\n",
       "      <td>2</td>\n",
       "      <td>6</td>\n",
       "    </tr>\n",
       "  </tbody>\n",
       "</table>\n",
       "</div>"
      ],
      "text/plain": [
       "   Brand                                       Model_Info  \\\n",
       "0      1                   name0 55s66s66s778xxsxsmax etc   \n",
       "1      1   slightly used excellent condition name0 5 sale   \n",
       "2      1        name0 sx ios12 top letast model bill call   \n",
       "3      1           name87 name0 x 64gb going lowest 41900   \n",
       "4      1      name0 5s proper condition one handedly used   \n",
       "\n",
       "                              Additional_Description  Locality  City  State  \n",
       "0   good condition 11months old single scratch we...       570    11      4  \n",
       "1   101008700 1010030600 1010034300 10100192200 1...       762     8      2  \n",
       "2                                1010017300 delivery        60    13      5  \n",
       "3    phone 1010023400 64 gb excellent condition sale       640    15      5  \n",
       "4   full kit available 10100248300 condition 4gb ...       816     2      6  "
      ]
     },
     "execution_count": 138,
     "metadata": {},
     "output_type": "execute_result"
    }
   ],
   "source": [
    "test.head(5)"
   ]
  },
  {
   "cell_type": "code",
   "execution_count": 139,
   "metadata": {},
   "outputs": [],
   "source": [
    "test[\"device_memory\"] = test[\"Model_Info\"].apply(lambda x: device_memory_category(x))\n",
    "test[\"phone_status\"] = test[\"Model_Info\"].apply(lambda x: if_iphopne_or_ipad(x))\n",
    "test[\"device_condition\"] = test[\"Model_Info\"].apply(lambda x: device_condition(x))\n",
    "test[\"warranty_status\"] = test[\"Additional_Description\"].apply(lambda x: under_warranty(x))"
   ]
  },
  {
   "cell_type": "code",
   "execution_count": 140,
   "metadata": {},
   "outputs": [],
   "source": [
    "test = pd.get_dummies(data=test, columns=['City','State','device_memory'], \n",
    "               prefix=['City', 'State', 'Device_memory'], \n",
    "               drop_first=True)"
   ]
  },
  {
   "cell_type": "code",
   "execution_count": 167,
   "metadata": {},
   "outputs": [
    {
     "data": {
      "text/plain": [
       "Index(['Brand', 'Model_Info', 'Additional_Description', 'Locality',\n",
       "       'phone_status', 'device_condition', 'warranty_status', 'City_1',\n",
       "       'City_2', 'City_4', 'City_5', 'City_6', 'City_8', 'City_10', 'City_11',\n",
       "       'City_12', 'City_13', 'City_15', 'City_17', 'City_18', 'City_19',\n",
       "       'State_1', 'State_2', 'State_3', 'State_4', 'State_5', 'State_6',\n",
       "       'State_7', 'Device_memory_1', 'Device_memory_2', 'Device_memory_3',\n",
       "       'Device_memory_4'],\n",
       "      dtype='object')"
      ]
     },
     "execution_count": 167,
     "metadata": {},
     "output_type": "execute_result"
    }
   ],
   "source": [
    "test.columns"
   ]
  },
  {
   "cell_type": "code",
   "execution_count": 168,
   "metadata": {},
   "outputs": [],
   "source": [
    "test['City_3'] = 0\n",
    "test['City_7'] = 0\n",
    "test['City_9'] = 0\n",
    "test['City_14'] = 0\n",
    "test['City_16'] = 0\n",
    "test['State_8'] = 0"
   ]
  },
  {
   "cell_type": "code",
   "execution_count": 170,
   "metadata": {},
   "outputs": [],
   "source": [
    "test_for_prediction = test[['Brand', 'Locality',\n",
    "       'phone_status', 'device_condition', 'warranty_status', 'City_1',\n",
    "       'City_2', 'City_3', 'City_4', 'City_5', 'City_6', 'City_7', 'City_8', 'City_9', 'City_10',\n",
    "       'City_11', 'City_12', 'City_13', 'City_14', 'City_15', 'City_16',\n",
    "       'City_17', 'City_18', 'City_19', 'State_1', 'State_2', 'State_3', 'State_4', 'State_5',\n",
    "       'State_6', 'State_7', 'State_8', 'Device_memory_1', 'Device_memory_2',\n",
    "       'Device_memory_3', 'Device_memory_4']]"
   ]
  },
  {
   "cell_type": "code",
   "execution_count": 171,
   "metadata": {
    "scrolled": true
   },
   "outputs": [
    {
     "data": {
      "text/html": [
       "<div>\n",
       "<style scoped>\n",
       "    .dataframe tbody tr th:only-of-type {\n",
       "        vertical-align: middle;\n",
       "    }\n",
       "\n",
       "    .dataframe tbody tr th {\n",
       "        vertical-align: top;\n",
       "    }\n",
       "\n",
       "    .dataframe thead th {\n",
       "        text-align: right;\n",
       "    }\n",
       "</style>\n",
       "<table border=\"1\" class=\"dataframe\">\n",
       "  <thead>\n",
       "    <tr style=\"text-align: right;\">\n",
       "      <th></th>\n",
       "      <th>Brand</th>\n",
       "      <th>Locality</th>\n",
       "      <th>phone_status</th>\n",
       "      <th>device_condition</th>\n",
       "      <th>warranty_status</th>\n",
       "      <th>City_1</th>\n",
       "      <th>City_2</th>\n",
       "      <th>City_3</th>\n",
       "      <th>City_4</th>\n",
       "      <th>City_5</th>\n",
       "      <th>...</th>\n",
       "      <th>State_3</th>\n",
       "      <th>State_4</th>\n",
       "      <th>State_5</th>\n",
       "      <th>State_6</th>\n",
       "      <th>State_7</th>\n",
       "      <th>State_8</th>\n",
       "      <th>Device_memory_1</th>\n",
       "      <th>Device_memory_2</th>\n",
       "      <th>Device_memory_3</th>\n",
       "      <th>Device_memory_4</th>\n",
       "    </tr>\n",
       "  </thead>\n",
       "  <tbody>\n",
       "    <tr>\n",
       "      <th>0</th>\n",
       "      <td>1</td>\n",
       "      <td>570</td>\n",
       "      <td>0</td>\n",
       "      <td>0</td>\n",
       "      <td>0</td>\n",
       "      <td>0</td>\n",
       "      <td>0</td>\n",
       "      <td>0</td>\n",
       "      <td>0</td>\n",
       "      <td>0</td>\n",
       "      <td>...</td>\n",
       "      <td>0</td>\n",
       "      <td>1</td>\n",
       "      <td>0</td>\n",
       "      <td>0</td>\n",
       "      <td>0</td>\n",
       "      <td>0</td>\n",
       "      <td>0</td>\n",
       "      <td>0</td>\n",
       "      <td>0</td>\n",
       "      <td>0</td>\n",
       "    </tr>\n",
       "    <tr>\n",
       "      <th>1</th>\n",
       "      <td>1</td>\n",
       "      <td>762</td>\n",
       "      <td>0</td>\n",
       "      <td>1</td>\n",
       "      <td>0</td>\n",
       "      <td>0</td>\n",
       "      <td>0</td>\n",
       "      <td>0</td>\n",
       "      <td>0</td>\n",
       "      <td>0</td>\n",
       "      <td>...</td>\n",
       "      <td>0</td>\n",
       "      <td>0</td>\n",
       "      <td>0</td>\n",
       "      <td>0</td>\n",
       "      <td>0</td>\n",
       "      <td>0</td>\n",
       "      <td>0</td>\n",
       "      <td>0</td>\n",
       "      <td>0</td>\n",
       "      <td>0</td>\n",
       "    </tr>\n",
       "    <tr>\n",
       "      <th>2</th>\n",
       "      <td>1</td>\n",
       "      <td>60</td>\n",
       "      <td>0</td>\n",
       "      <td>0</td>\n",
       "      <td>0</td>\n",
       "      <td>0</td>\n",
       "      <td>0</td>\n",
       "      <td>0</td>\n",
       "      <td>0</td>\n",
       "      <td>0</td>\n",
       "      <td>...</td>\n",
       "      <td>0</td>\n",
       "      <td>0</td>\n",
       "      <td>1</td>\n",
       "      <td>0</td>\n",
       "      <td>0</td>\n",
       "      <td>0</td>\n",
       "      <td>0</td>\n",
       "      <td>0</td>\n",
       "      <td>0</td>\n",
       "      <td>0</td>\n",
       "    </tr>\n",
       "    <tr>\n",
       "      <th>3</th>\n",
       "      <td>1</td>\n",
       "      <td>640</td>\n",
       "      <td>0</td>\n",
       "      <td>0</td>\n",
       "      <td>0</td>\n",
       "      <td>0</td>\n",
       "      <td>0</td>\n",
       "      <td>0</td>\n",
       "      <td>0</td>\n",
       "      <td>0</td>\n",
       "      <td>...</td>\n",
       "      <td>0</td>\n",
       "      <td>0</td>\n",
       "      <td>1</td>\n",
       "      <td>0</td>\n",
       "      <td>0</td>\n",
       "      <td>0</td>\n",
       "      <td>0</td>\n",
       "      <td>0</td>\n",
       "      <td>1</td>\n",
       "      <td>0</td>\n",
       "    </tr>\n",
       "    <tr>\n",
       "      <th>4</th>\n",
       "      <td>1</td>\n",
       "      <td>816</td>\n",
       "      <td>0</td>\n",
       "      <td>0</td>\n",
       "      <td>0</td>\n",
       "      <td>0</td>\n",
       "      <td>1</td>\n",
       "      <td>0</td>\n",
       "      <td>0</td>\n",
       "      <td>0</td>\n",
       "      <td>...</td>\n",
       "      <td>0</td>\n",
       "      <td>0</td>\n",
       "      <td>0</td>\n",
       "      <td>1</td>\n",
       "      <td>0</td>\n",
       "      <td>0</td>\n",
       "      <td>0</td>\n",
       "      <td>0</td>\n",
       "      <td>0</td>\n",
       "      <td>0</td>\n",
       "    </tr>\n",
       "  </tbody>\n",
       "</table>\n",
       "<p>5 rows × 36 columns</p>\n",
       "</div>"
      ],
      "text/plain": [
       "   Brand  Locality  phone_status  device_condition  warranty_status  City_1  \\\n",
       "0      1       570             0                 0                0       0   \n",
       "1      1       762             0                 1                0       0   \n",
       "2      1        60             0                 0                0       0   \n",
       "3      1       640             0                 0                0       0   \n",
       "4      1       816             0                 0                0       0   \n",
       "\n",
       "   City_2  City_3  City_4  City_5  ...  State_3  State_4  State_5  State_6  \\\n",
       "0       0       0       0       0  ...        0        1        0        0   \n",
       "1       0       0       0       0  ...        0        0        0        0   \n",
       "2       0       0       0       0  ...        0        0        1        0   \n",
       "3       0       0       0       0  ...        0        0        1        0   \n",
       "4       1       0       0       0  ...        0        0        0        1   \n",
       "\n",
       "   State_7  State_8  Device_memory_1  Device_memory_2  Device_memory_3  \\\n",
       "0        0        0                0                0                0   \n",
       "1        0        0                0                0                0   \n",
       "2        0        0                0                0                0   \n",
       "3        0        0                0                0                1   \n",
       "4        0        0                0                0                0   \n",
       "\n",
       "   Device_memory_4  \n",
       "0                0  \n",
       "1                0  \n",
       "2                0  \n",
       "3                0  \n",
       "4                0  \n",
       "\n",
       "[5 rows x 36 columns]"
      ]
     },
     "execution_count": 171,
     "metadata": {},
     "output_type": "execute_result"
    }
   ],
   "source": [
    "test_for_prediction.head()"
   ]
  },
  {
   "cell_type": "code",
   "execution_count": 119,
   "metadata": {},
   "outputs": [],
   "source": [
    "def predict_file(model, model_instance, test_data):\n",
    "    file_name = \"Final_output_prediction_from_\" + model + \".xlsx\"\n",
    "    predictions  = model_instance.predict(test_data)\n",
    "    df_prediction_var = pd.DataFrame(predictions, columns=[\"Price\"])\n",
    "    df_prediction_var.to_excel(file_name)\n",
    "    print(\"{} created.\".format(file_name))"
   ]
  },
  {
   "cell_type": "code",
   "execution_count": 174,
   "metadata": {},
   "outputs": [
    {
     "name": "stdout",
     "output_type": "stream",
     "text": [
      "Final_output_prediction_from_stacked_model.xlsx created.\n"
     ]
    }
   ],
   "source": [
    "predict_file(\"stacked_model\", model_full, test_for_prediction)"
   ]
  },
  {
   "cell_type": "code",
   "execution_count": null,
   "metadata": {},
   "outputs": [],
   "source": []
  }
 ],
 "metadata": {
  "kernelspec": {
   "display_name": "Python 3",
   "language": "python",
   "name": "python3"
  },
  "language_info": {
   "codemirror_mode": {
    "name": "ipython",
    "version": 3
   },
   "file_extension": ".py",
   "mimetype": "text/x-python",
   "name": "python",
   "nbconvert_exporter": "python",
   "pygments_lexer": "ipython3",
   "version": "3.6.0"
  }
 },
 "nbformat": 4,
 "nbformat_minor": 2
}
